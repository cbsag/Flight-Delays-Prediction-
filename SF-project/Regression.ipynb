{
  "nbformat": 4,
  "nbformat_minor": 0,
  "metadata": {
    "colab": {
      "name": "module3.ipynb",
      "provenance": []
    },
    "kernelspec": {
      "display_name": "Python 3",
      "name": "python3"
    },
    "language_info": {
      "name": "python"
    }
  },
  "cells": [
    {
      "cell_type": "code",
      "metadata": {
        "id": "wkSnNYGmMDKL"
      },
      "source": [
        "import pandas as pd\n",
        "from sklearn.model_selection import train_test_split\n",
        "from sklearn.linear_model import LinearRegression as Lin\n",
        "from sklearn.metrics import r2_score as R2\n",
        "from sklearn.metrics import mean_squared_error as MSE\n",
        "from sklearn.metrics import mean_absolute_error  as MAE\n",
        "from sklearn.preprocessing import StandardScaler \n",
        "from sklearn.tree import DecisionTreeClassifier as DTC\n",
        "from sklearn.ensemble import ExtraTreesClassifier as ETC\n",
        "from sklearn.svm import LinearSVC as LSVC\n",
        "from sklearn.ensemble import RandomForestClassifier as RFC\n",
        "from xgboost import XGBClassifier \n",
        "import numpy as np\n"
      ],
      "execution_count": null,
      "outputs": []
    },
    {
      "cell_type": "code",
      "metadata": {
        "id": "CdAlwW1HLuU2"
      },
      "source": [
        "target = \"ArrDelayMinutes\"\n",
        "features = ['OriginAirportID', 'DestAirportID',\n",
        "            'DepTime', 'DepDelayMinutes', 'WindSpeedKmph$Origin$',\n",
        "       'WindDirDegree$Origin$', 'WeatherCode$Origin$', 'precipMM$Origin$',\n",
        "       'Visibility$Origin$', 'Pressure$Origin$', 'Cloudcover$Origin$',\n",
        "       'DewPointF$Origin$', 'WindGustKmph$Origin$', 'tempF$Origin$',\n",
        "       'WindChillF$Origin$', 'Humidity$Origin$', 'WindSpeedKmph$Dest$',\n",
        "       'WindDirDegree$Dest$', 'WeatherCode$Dest$', 'precipMM$Dest$',\n",
        "       'Visibility$Dest$', 'Pressure$Dest$', 'Cloudcover$Dest$',\n",
        "       'DewPointF$Dest$', 'WindGustKmph$Dest$', 'tempF$Dest$',\n",
        "       'WindChillF$Dest$', 'Humidity$Dest$']\n"
      ],
      "execution_count": null,
      "outputs": []
    },
    {
      "cell_type": "code",
      "metadata": {
        "id": "jQfLYfk7MAeq"
      },
      "source": [
        "InfoDF = pd.read_csv(\"drive/MyDrive/Data/Info.csv\")\n",
        "InfoDF= InfoDF[InfoDF[\"ArrDel15\"]==1]\n"
      ],
      "execution_count": null,
      "outputs": []
    },
    {
      "cell_type": "code",
      "metadata": {
        "id": "sUlKS2V952OB"
      },
      "source": [
        "x = InfoDF[features]\n",
        "y = InfoDF[target]\n",
        "\n",
        "x_train, x_test, y_train, y_test = train_test_split(x, y, test_size=0.2)\n",
        "\n",
        "scaler = StandardScaler()\n",
        "scaler.fit(x)\n",
        "x_trainS = scaler.transform(x_train)\n",
        "x_testS = scaler.transform(x_test)"
      ],
      "execution_count": null,
      "outputs": []
    },
    {
      "cell_type": "markdown",
      "metadata": {
        "id": "SHveZYINPtIn"
      },
      "source": [
        "LinearRegression"
      ]
    },
    {
      "cell_type": "code",
      "metadata": {
        "colab": {
          "base_uri": "https://localhost:8080/"
        },
        "id": "w4-n7IJiPsiw",
        "outputId": "428dc03f-a466-473e-81c3-db1c8e754601"
      },
      "source": [
        "model = Lin()\n",
        "model.fit(x_trainS,y_train)\n",
        "predictions = model.predict(x_testS)\n",
        "print(MAE(y_test,predictions))\n",
        "print(R2(y_test,predictions))\n",
        "print(np.sqrt(MSE(y_test,predictions)))\n",
        "\n"
      ],
      "execution_count": null,
      "outputs": [
        {
          "output_type": "stream",
          "text": [
            "14.443207652123924\n",
            "0.9232715181580988\n",
            "19.593924519647818\n"
          ],
          "name": "stdout"
        }
      ]
    },
    {
      "cell_type": "markdown",
      "metadata": {
        "id": "qzTHhM8KV2CD"
      },
      "source": [
        "Decision Tree"
      ]
    },
    {
      "cell_type": "code",
      "metadata": {
        "colab": {
          "base_uri": "https://localhost:8080/"
        },
        "id": "cWsZjQe6V5ar",
        "outputId": "85cbefeb-2f49-40c7-be87-7ec164de73b3"
      },
      "source": [
        "model = DTC()\n",
        "model.fit(x_trainS,y_train)\n",
        "predictions = model.predict(x_testS)\n",
        "print(MAE(y_test,predictions))\n",
        "print(R2(y_test,predictions))\n",
        "print(np.sqrt(MSE(y_test,predictions)))\n"
      ],
      "execution_count": null,
      "outputs": [
        {
          "output_type": "stream",
          "text": [
            "16.03842189352162\n",
            "0.892990483405272\n",
            "23.493950310244333\n"
          ],
          "name": "stdout"
        }
      ]
    },
    {
      "cell_type": "markdown",
      "metadata": {
        "id": "SAqCPbBJW4PG"
      },
      "source": [
        "Extra Tree Classifier "
      ]
    },
    {
      "cell_type": "code",
      "metadata": {
        "id": "hEpFFeQJW3-j"
      },
      "source": [
        "model = ETC()\n",
        "model.fit(x_train,y_train)\n",
        "predictions = model.predict(x_test)\n",
        "print(MAE(y_test,predictions))\n",
        "print(R2(y_test,predictions))\n",
        "print(np.sqrt(MSE(y_test,predictions)))\n"
      ],
      "execution_count": null,
      "outputs": []
    },
    {
      "cell_type": "markdown",
      "metadata": {
        "id": "IMIBwa3gXbDP"
      },
      "source": [
        "Linear SVC"
      ]
    },
    {
      "cell_type": "code",
      "metadata": {
        "id": "9DfOYIaHXa3I"
      },
      "source": [
        "model = LSVC()\n",
        "model.fit(x_trainS,y_train)\n",
        "predictions = model.predict(x_testS)\n",
        "print(MAE(y_test,predictions))\n",
        "print(R2(y_test,predictions))\n",
        "print(np.sqrt(MSE(y_test,predictions)))\n"
      ],
      "execution_count": null,
      "outputs": []
    },
    {
      "cell_type": "markdown",
      "metadata": {
        "id": "o03sQMppYrlv"
      },
      "source": [
        "XGBOOST"
      ]
    },
    {
      "cell_type": "code",
      "metadata": {
        "id": "lTqBWLorYu10"
      },
      "source": [
        "model = XGBClassifier()\n",
        "model.fit(x_train,y_train)\n",
        "predictions = model.predict(x_test)\n",
        "print(MAE(y_test,predictions))\n",
        "print(R2(y_test,predictions))\n",
        "print(np.sqrt(MSE(y_test,predictions)))\n"
      ],
      "execution_count": null,
      "outputs": []
    },
    {
      "cell_type": "markdown",
      "metadata": {
        "id": "WyYPxw2hYvfM"
      },
      "source": [
        "Random Forest "
      ]
    },
    {
      "cell_type": "code",
      "metadata": {
        "id": "RHeuWi8zYxu5"
      },
      "source": [
        "model = RFC()\n",
        "model.fit(x_train,y_train)\n",
        "predictions = model.predict(x_test)\n",
        "print(MAE(y_test,predictions))\n",
        "print(R2(y_test,predictions))\n",
        "print(np.sqrt(MSE(y_test,predictions)))\n"
      ],
      "execution_count": null,
      "outputs": []
    },
    {
      "cell_type": "code",
      "metadata": {
        "id": "NPy4QCErAOm_"
      },
      "source": [
        ""
      ],
      "execution_count": null,
      "outputs": []
    }
  ]
}