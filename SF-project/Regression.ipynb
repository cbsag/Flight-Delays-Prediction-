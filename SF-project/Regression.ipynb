{
  "nbformat": 4,
  "nbformat_minor": 0,
  "metadata": {
    "colab": {
      "name": "Regression.ipynb",
      "provenance": []
    },
    "kernelspec": {
      "display_name": "Python 3",
      "name": "python3"
    },
    "language_info": {
      "name": "python"
    }
  },
  "cells": [
    {
      "cell_type": "code",
      "metadata": {
        "id": "wkSnNYGmMDKL"
      },
      "source": [
        "import pandas as pd\n",
        "from sklearn.model_selection import train_test_split\n",
        "from sklearn.linear_model import LinearRegression as Lin\n",
        "from sklearn.metrics import r2_score as R2\n",
        "from sklearn.metrics import mean_squared_error as MSE\n",
        "from sklearn.metrics import mean_absolute_error  as MAE\n",
        "from sklearn.preprocessing import StandardScaler \n",
        "from sklearn.tree import DecisionTreeRegressor as DTC\n",
        "from sklearn.ensemble import ExtraTreesRegressor as ETC\n",
        "from sklearn.svm import LinearSVR as LSVR\n",
        "from sklearn.ensemble import RandomForestRegressor as RFC\n",
        "from xgboost import XGBRegressor\n",
        "import numpy as np\n"
      ],
      "execution_count": 5,
      "outputs": []
    },
    {
      "cell_type": "code",
      "metadata": {
        "id": "CdAlwW1HLuU2"
      },
      "source": [
        "target = \"ArrDelayMinutes\"\n",
        "features = ['OriginAirportID', 'DestAirportID',\n",
        "            'DepTime', 'DepDelayMinutes', 'WindSpeedKmph$Origin$',\n",
        "       'WindDirDegree$Origin$', 'WeatherCode$Origin$', 'precipMM$Origin$',\n",
        "       'Visibility$Origin$', 'Pressure$Origin$', 'Cloudcover$Origin$',\n",
        "       'DewPointF$Origin$', 'WindGustKmph$Origin$', 'tempF$Origin$',\n",
        "       'WindChillF$Origin$', 'Humidity$Origin$', 'WindSpeedKmph$Dest$',\n",
        "       'WindDirDegree$Dest$', 'WeatherCode$Dest$', 'precipMM$Dest$',\n",
        "       'Visibility$Dest$', 'Pressure$Dest$', 'Cloudcover$Dest$',\n",
        "       'DewPointF$Dest$', 'WindGustKmph$Dest$', 'tempF$Dest$',\n",
        "       'WindChillF$Dest$', 'Humidity$Dest$']\n"
      ],
      "execution_count": 2,
      "outputs": []
    },
    {
      "cell_type": "code",
      "metadata": {
        "id": "jQfLYfk7MAeq"
      },
      "source": [
        "InfoDF = pd.read_csv(\"drive/MyDrive/Data/Info.csv\")\n",
        "InfoDF= InfoDF[InfoDF[\"ArrDel15\"]==1]\n"
      ],
      "execution_count": 3,
      "outputs": []
    },
    {
      "cell_type": "code",
      "metadata": {
        "id": "sUlKS2V952OB"
      },
      "source": [
        "x = InfoDF[features]\n",
        "y = InfoDF[target]\n",
        "\n",
        "x_train, x_test, y_train, y_test = train_test_split(x, y, test_size=0.2)\n",
        "\n",
        "scaler = StandardScaler()\n",
        "scaler.fit(x)\n",
        "x_trainS = scaler.transform(x_train)\n",
        "x_testS = scaler.transform(x_test)"
      ],
      "execution_count": 4,
      "outputs": []
    },
    {
      "cell_type": "markdown",
      "metadata": {
        "id": "SHveZYINPtIn"
      },
      "source": [
        "LinearRegression"
      ]
    },
    {
      "cell_type": "code",
      "metadata": {
        "colab": {
          "base_uri": "https://localhost:8080/"
        },
        "id": "w4-n7IJiPsiw",
        "outputId": "3e8fbc2c-7ff4-49f5-c41c-6b8c4bf63c26"
      },
      "source": [
        "model = Lin()\n",
        "model.fit(x_trainS,y_train)\n",
        "predictions = model.predict(x_testS)\n",
        "print(MAE(y_test,predictions))\n",
        "print(R2(y_test,predictions))\n",
        "print(np.sqrt(MSE(y_test,predictions)))\n",
        "\n"
      ],
      "execution_count": null,
      "outputs": [
        {
          "output_type": "stream",
          "text": [
            "14.448545366597868\n",
            "0.925632124129528\n",
            "19.756669087075505\n"
          ],
          "name": "stdout"
        }
      ]
    },
    {
      "cell_type": "markdown",
      "metadata": {
        "id": "qzTHhM8KV2CD"
      },
      "source": [
        "Decision Tree"
      ]
    },
    {
      "cell_type": "code",
      "metadata": {
        "colab": {
          "base_uri": "https://localhost:8080/"
        },
        "id": "cWsZjQe6V5ar",
        "outputId": "e35cfe40-b4e8-4fa8-fbec-6e5a44bcacb8"
      },
      "source": [
        "model = DTC()\n",
        "model.fit(x_trainS,y_train)\n",
        "predictions = model.predict(x_testS)\n",
        "print(MAE(y_test,predictions))\n",
        "print(R2(y_test,predictions))\n",
        "print(np.sqrt(MSE(y_test,predictions)))\n"
      ],
      "execution_count": null,
      "outputs": [
        {
          "output_type": "stream",
          "text": [
            "16.514160181415246\n",
            "0.8884502499402549\n",
            "24.196655313952153\n"
          ],
          "name": "stdout"
        }
      ]
    },
    {
      "cell_type": "markdown",
      "metadata": {
        "id": "SAqCPbBJW4PG"
      },
      "source": [
        "Extra Tree Regressor"
      ]
    },
    {
      "cell_type": "code",
      "metadata": {
        "id": "hEpFFeQJW3-j",
        "colab": {
          "base_uri": "https://localhost:8080/"
        },
        "outputId": "2f8fe540-1b92-41f6-eebc-6513bb81ee8f"
      },
      "source": [
        "model = ETC()\n",
        "model.fit(x_train,y_train)\n",
        "predictions = model.predict(x_test)\n",
        "print(MAE(y_test,predictions))\n",
        "print(R2(y_test,predictions))\n",
        "print(np.sqrt(MSE(y_test,predictions)))\n"
      ],
      "execution_count": null,
      "outputs": [
        {
          "output_type": "stream",
          "text": [
            "11.686561807452454\n",
            "0.9473407302714418\n",
            "16.624877472888976\n"
          ],
          "name": "stdout"
        }
      ]
    },
    {
      "cell_type": "markdown",
      "metadata": {
        "id": "IMIBwa3gXbDP"
      },
      "source": [
        "Linear SVC"
      ]
    },
    {
      "cell_type": "code",
      "metadata": {
        "id": "9DfOYIaHXa3I",
        "colab": {
          "base_uri": "https://localhost:8080/"
        },
        "outputId": "1e1c500b-ba34-4f71-883f-9dc95b3b6240"
      },
      "source": [
        "model = LSVR()\n",
        "model.fit(x_trainS,y_train)\n",
        "predictions = model.predict(x_testS)\n",
        "print(MAE(y_test,predictions))\n",
        "print(R2(y_test,predictions))\n",
        "print(np.sqrt(MSE(y_test,predictions)))\n"
      ],
      "execution_count": 6,
      "outputs": [
        {
          "output_type": "stream",
          "text": [
            "14.28899491383967\n",
            "0.9215916597642851\n",
            "20.346389927124378\n"
          ],
          "name": "stdout"
        }
      ]
    },
    {
      "cell_type": "markdown",
      "metadata": {
        "id": "o03sQMppYrlv"
      },
      "source": [
        "XGBOOST"
      ]
    },
    {
      "cell_type": "code",
      "metadata": {
        "id": "lTqBWLorYu10",
        "colab": {
          "base_uri": "https://localhost:8080/"
        },
        "outputId": "79f55f50-1f8d-45ad-a98e-aab79112a382"
      },
      "source": [
        "model = XGBRegressor()\n",
        "model.fit(x_train,y_train)\n",
        "predictions = model.predict(x_test)\n",
        "print(MAE(y_test,predictions))\n",
        "print(R2(y_test,predictions))\n",
        "print(np.sqrt(MSE(y_test,predictions)))\n"
      ],
      "execution_count": null,
      "outputs": [
        {
          "output_type": "stream",
          "text": [
            "[03:26:15] WARNING: /workspace/src/objective/regression_obj.cu:152: reg:linear is now deprecated in favor of reg:squarederror.\n",
            "11.61556838177187\n",
            "0.9453386711407864\n",
            "16.739319911865934\n"
          ],
          "name": "stdout"
        }
      ]
    },
    {
      "cell_type": "markdown",
      "metadata": {
        "id": "WyYPxw2hYvfM"
      },
      "source": [
        "Random Forest "
      ]
    },
    {
      "cell_type": "code",
      "metadata": {
        "id": "RHeuWi8zYxu5",
        "colab": {
          "base_uri": "https://localhost:8080/"
        },
        "outputId": "cdd7b414-f781-45b8-ad93-46aaf52a09e7"
      },
      "source": [
        "model = RFC()\n",
        "model.fit(x_train,y_train)\n",
        "predictions = model.predict(x_test)\n",
        "print(MAE(y_test,predictions))\n",
        "print(R2(y_test,predictions))\n",
        "print(np.sqrt(MSE(y_test,predictions)))\n"
      ],
      "execution_count": null,
      "outputs": [
        {
          "output_type": "stream",
          "text": [
            "11.66977146069091\n",
            "0.9469758766181983\n",
            "16.486727709783974\n"
          ],
          "name": "stdout"
        }
      ]
    },
    {
      "cell_type": "code",
      "metadata": {
        "id": "NPy4QCErAOm_"
      },
      "source": [
        ""
      ],
      "execution_count": null,
      "outputs": []
    }
  ]
}