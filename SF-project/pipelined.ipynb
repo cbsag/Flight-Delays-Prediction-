{
  "nbformat": 4,
  "nbformat_minor": 0,
  "metadata": {
    "colab": {
      "name": "pipelined.ipynb",
      "provenance": []
    },
    "kernelspec": {
      "display_name": "Python 3",
      "name": "python3"
    },
    "language_info": {
      "name": "python"
    }
  },
  "cells": [
    {
      "cell_type": "code",
      "metadata": {
        "id": "wkSnNYGmMDKL"
      },
      "source": [
        "import pandas as pd\n",
        "from sklearn.model_selection import train_test_split\n",
        "\n",
        "from sklearn.metrics import r2_score as R2\n",
        "from sklearn.metrics import mean_squared_error as MSE\n",
        "from sklearn.metrics import mean_absolute_error  as MAE\n",
        "\n",
        "from sklearn.ensemble import RandomForestClassifier as RFC\n",
        "from sklearn.ensemble import RandomForestRegressor as RFR\n",
        "import numpy as np\n",
        "from sklearn.metrics import accuracy_score as AS\n",
        "from sklearn.metrics import classification_report as CR\n",
        "from sklearn.metrics import balanced_accuracy_score as BC\n",
        "from sklearn.metrics import r2_score as R2\n",
        "from sklearn.metrics import mean_squared_error as MSE\n",
        "from sklearn.metrics import mean_absolute_error  as MAE"
      ],
      "execution_count": null,
      "outputs": []
    },
    {
      "cell_type": "code",
      "metadata": {
        "id": "CdAlwW1HLuU2"
      },
      "source": [
        "targetR = \"ArrDelayMinutes\"\n",
        "featuresR = ['OriginAirportID', 'DestAirportID',\n",
        "            'DepTime', 'DepDelayMinutes', 'WindSpeedKmph$Origin$',\n",
        "       'WindDirDegree$Origin$', 'WeatherCode$Origin$', 'precipMM$Origin$',\n",
        "       'Visibility$Origin$', 'Pressure$Origin$', 'Cloudcover$Origin$',\n",
        "       'DewPointF$Origin$', 'WindGustKmph$Origin$', 'tempF$Origin$',\n",
        "       'WindChillF$Origin$', 'Humidity$Origin$', 'WindSpeedKmph$Dest$',\n",
        "       'WindDirDegree$Dest$', 'WeatherCode$Dest$', 'precipMM$Dest$',\n",
        "       'Visibility$Dest$', 'Pressure$Dest$', 'Cloudcover$Dest$',\n",
        "       'DewPointF$Dest$', 'WindGustKmph$Dest$', 'tempF$Dest$',\n",
        "       'WindChillF$Dest$', 'Humidity$Dest$']\n"
      ],
      "execution_count": null,
      "outputs": []
    },
    {
      "cell_type": "code",
      "metadata": {
        "id": "ehxDIZ_cFHDh"
      },
      "source": [
        "targetC = \"ArrDel15\"\n",
        "featuresC = ['OriginAirportID', 'DestAirportID',\n",
        "            'DepTime', 'DepDelayMinutes', 'WindSpeedKmph$Origin$',\n",
        "       'WindDirDegree$Origin$', 'WeatherCode$Origin$', 'precipMM$Origin$',\n",
        "       'Visibility$Origin$', 'Pressure$Origin$', 'Cloudcover$Origin$',\n",
        "       'DewPointF$Origin$', 'WindGustKmph$Origin$', 'tempF$Origin$',\n",
        "       'WindChillF$Origin$', 'Humidity$Origin$', 'WindSpeedKmph$Dest$',\n",
        "       'WindDirDegree$Dest$', 'WeatherCode$Dest$', 'precipMM$Dest$',\n",
        "       'Visibility$Dest$', 'Pressure$Dest$', 'Cloudcover$Dest$',\n",
        "       'DewPointF$Dest$', 'WindGustKmph$Dest$', 'tempF$Dest$',\n",
        "       'WindChillF$Dest$', 'Humidity$Dest$']\n"
      ],
      "execution_count": null,
      "outputs": []
    },
    {
      "cell_type": "code",
      "metadata": {
        "id": "jQfLYfk7MAeq"
      },
      "source": [
        "InfoDF = pd.read_csv(\"drive/MyDrive/Data/Info.csv\")"
      ],
      "execution_count": null,
      "outputs": []
    },
    {
      "cell_type": "code",
      "metadata": {
        "colab": {
          "base_uri": "https://localhost:8080/"
        },
        "id": "AODglM6Nx_bw",
        "outputId": "a7b5d14d-e4fa-4937-95d6-fbcc15c026b0"
      },
      "source": [
        "InfoDF.shape\n"
      ],
      "execution_count": null,
      "outputs": [
        {
          "output_type": "execute_result",
          "data": {
            "text/plain": [
              "(1851436, 52)"
            ]
          },
          "metadata": {
            "tags": []
          },
          "execution_count": 8
        }
      ]
    },
    {
      "cell_type": "code",
      "metadata": {
        "id": "sUlKS2V952OB"
      },
      "source": [
        "\n",
        "trainData , testData = train_test_split(InfoDF, test_size=0.2)"
      ],
      "execution_count": null,
      "outputs": []
    },
    {
      "cell_type": "markdown",
      "metadata": {
        "id": "BlVKaerqyykk"
      },
      "source": [
        "Classification"
      ]
    },
    {
      "cell_type": "code",
      "metadata": {
        "colab": {
          "base_uri": "https://localhost:8080/"
        },
        "id": "pDunU4e8FUYw",
        "outputId": "504dfdd3-3ab3-4763-fc97-0dbe93d56158"
      },
      "source": [
        "model = RFC()\n",
        "model.fit(trainData[featuresC],trainData[targetC])\n",
        "# predictions = model.predict(x_test)\n",
        "testData[\"A2D_pred\"] = model.predict(testData[featuresC])"
      ],
      "execution_count": null,
      "outputs": [
        {
          "output_type": "stream",
          "text": [
            "/usr/local/lib/python3.7/dist-packages/ipykernel_launcher.py:4: SettingWithCopyWarning: \n",
            "A value is trying to be set on a copy of a slice from a DataFrame.\n",
            "Try using .loc[row_indexer,col_indexer] = value instead\n",
            "\n",
            "See the caveats in the documentation: https://pandas.pydata.org/pandas-docs/stable/user_guide/indexing.html#returning-a-view-versus-a-copy\n",
            "  after removing the cwd from sys.path.\n"
          ],
          "name": "stderr"
        }
      ]
    },
    {
      "cell_type": "code",
      "metadata": {
        "id": "rFNWKisIL2dY",
        "colab": {
          "base_uri": "https://localhost:8080/"
        },
        "outputId": "cb8c504a-6730-4b53-a549-7500377f22cd"
      },
      "source": [
        "print(CR(testData[targetC], testData[\"A2D_pred\"]))\n",
        "print(\"Accuracy Score: \", AS(testData[targetC], testData[\"A2D_pred\"]))\n",
        "print(\"Balanced Accuracy Score: \", BC(testData[targetC], testData[\"A2D_pred\"]))"
      ],
      "execution_count": null,
      "outputs": [
        {
          "output_type": "stream",
          "text": [
            "              precision    recall  f1-score   support\n",
            "\n",
            "           0       0.92      0.98      0.95    292496\n",
            "           1       0.88      0.70      0.78     77792\n",
            "\n",
            "    accuracy                           0.92    370288\n",
            "   macro avg       0.90      0.84      0.87    370288\n",
            "weighted avg       0.92      0.92      0.91    370288\n",
            "\n",
            "Accuracy Score:  0.91791254374973\n",
            "Balanced Accuracy Score:  0.8386541563536745\n"
          ],
          "name": "stdout"
        }
      ]
    },
    {
      "cell_type": "code",
      "metadata": {
        "id": "bZR2WDwc0VDm"
      },
      "source": [
        ""
      ],
      "execution_count": null,
      "outputs": []
    },
    {
      "cell_type": "code",
      "metadata": {
        "id": "0n5AdIHmFxLc"
      },
      "source": [
        "trainData = trainData[trainData[\"ArrDel15\"]==1]\n",
        "testData = testData[testData[\"A2D_pred\"]==1]"
      ],
      "execution_count": null,
      "outputs": []
    },
    {
      "cell_type": "markdown",
      "metadata": {
        "id": "wcC7Emx01G0O"
      },
      "source": [
        "Regression\n"
      ]
    },
    {
      "cell_type": "code",
      "metadata": {
        "id": "8Ua3cZP4Ft9h"
      },
      "source": [
        "model = RFR()\n",
        "model.fit(trainData[featuresR],trainData[targetR])\n",
        "testData[\"A2D_mpred\"] = model.predict(testData[featuresR])\n"
      ],
      "execution_count": null,
      "outputs": []
    },
    {
      "cell_type": "code",
      "metadata": {
        "colab": {
          "base_uri": "https://localhost:8080/"
        },
        "id": "M9CjZbdZ1E29",
        "outputId": "69b77b28-02c6-453d-b3b0-5b79544a2e07"
      },
      "source": [
        "print(\"R2:\", R2(testData[targetR], testData[\"A2D_mpred\"]))\n",
        "print(\"MAE:\", MAE(testData[targetR], testData[\"A2D_mpred\"]))\n",
        "print(\"RMSE:\", np.sqrt(MSE(testData[targetR], testData[\"A2D_mpred\"])))"
      ],
      "execution_count": null,
      "outputs": [
        {
          "output_type": "stream",
          "text": [
            "R2: 0.9454345949120542\n",
            "MAE: 13.759300441850039\n",
            "RMSE: 18.51968693009503\n"
          ],
          "name": "stdout"
        }
      ]
    }
  ]
}