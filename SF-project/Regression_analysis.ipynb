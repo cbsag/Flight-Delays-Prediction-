{
  "nbformat": 4,
  "nbformat_minor": 0,
  "metadata": {
    "colab": {
      "name": "Regression_analysis.ipynb",
      "provenance": []
    },
    "kernelspec": {
      "name": "python3",
      "display_name": "Python 3"
    },
    "language_info": {
      "name": "python"
    }
  },
  "cells": [
    {
      "cell_type": "markdown",
      "metadata": {
        "id": "oBZyBKvMUahC"
      },
      "source": [
        "Essential Statements"
      ]
    },
    {
      "cell_type": "code",
      "metadata": {
        "id": "35CtCBguRQmi"
      },
      "source": [
        "import pandas as pd\n",
        "import numpy as np\n",
        "from sklearn.model_selection import train_test_split\n",
        "from sklearn.ensemble import RandomForestRegressor\n",
        "from sklearn.metrics import r2_score as R2, mean_absolute_error as MAE, mean_squared_error as  MSE\n",
        "import matplotlib.pyplot as plt"
      ],
      "execution_count": 1,
      "outputs": []
    },
    {
      "cell_type": "markdown",
      "metadata": {
        "id": "IlSNlUS7UnUt"
      },
      "source": [
        "Required Values For The Operation"
      ]
    },
    {
      "cell_type": "code",
      "metadata": {
        "id": "4JgNDecsUYtG"
      },
      "source": [
        "features = ['OriginAirportID', 'DestAirportID', 'DepTime',\n",
        "       'DepDelayMinutes', 'DepDel15', 'WindSpeedKmph_Origin',\n",
        "       'WindDirDegree_Origin', 'WeatherCode_Origin', 'precipMM_Origin',\n",
        "       'Visibility_Origin', 'Pressure_Origin', 'Cloudcover_Origin',\n",
        "       'DewPointF_Origin', 'WindGustKmph_Origin', 'tempF_Origin',\n",
        "       'WindChillF_Origin', 'Humidity_Origin', 'WindSpeedKmph_Dest',\n",
        "       'WindDirDegree_Dest', 'WeatherCode_Dest', 'precipMM_Dest',\n",
        "       'Visibility_Dest', 'Pressure_Dest', 'Cloudcover_Dest', 'DewPointF_Dest',\n",
        "       'WindGustKmph_Dest', 'tempF_Dest', 'WindChillF_Dest', 'Humidity_Dest']\n",
        "       \n",
        "target = 'ArrDelayMinutes'\n",
        "\n",
        "# Testing Ranges For The Model \n",
        "Ranges = [[15, 100], [100, 200], [200, 500], [500, 1000], [1000, 2000]]"
      ],
      "execution_count": 2,
      "outputs": []
    },
    {
      "cell_type": "markdown",
      "metadata": {
        "id": "DZ_20vC1VbKd"
      },
      "source": [
        "Function For Setting The Value of Ranges"
      ]
    },
    {
      "cell_type": "code",
      "metadata": {
        "id": "HerbN67OVAiC"
      },
      "source": [
        "\n",
        "def Splitting(df, lower, upper):\n",
        "  print(\"The Range\",[lower, upper],\"is :\")\n",
        "  return df[(df[target]>=lower) & (df[target]<upper)]\n"
      ],
      "execution_count": 4,
      "outputs": []
    },
    {
      "cell_type": "markdown",
      "metadata": {
        "id": "G899eVb4Wdo9"
      },
      "source": [
        "Function For Testing The Model"
      ]
    },
    {
      "cell_type": "code",
      "metadata": {
        "id": "qFcbB_KDVViO"
      },
      "source": [
        "def test(model, X_test, y_test):\n",
        "  print(X_test.shape)\n",
        "  predictions = model.predict(X_test)\n",
        "\n",
        "  print(\"MAE Value :\", MAE(y_test, predictions))\n",
        "  print(\"RMSE Value :\", np.sqrt(MSE(y_test, predictions)))\n",
        "  print(\"\\n\")"
      ],
      "execution_count": 5,
      "outputs": []
    },
    {
      "cell_type": "markdown",
      "metadata": {
        "id": "wHISxnb0W8Mq"
      },
      "source": [
        "Oprations In Dataset To Get Dataframe"
      ]
    },
    {
      "cell_type": "code",
      "metadata": {
        "id": "lLPBjjw4Wu6W"
      },
      "source": [
        "df = pd.read_csv(\"drive/MyDrive/Data/dataset.csv\")\n",
        "df = df[df[\"ArrDel15\"] == 1]"
      ],
      "execution_count": 7,
      "outputs": []
    },
    {
      "cell_type": "markdown",
      "metadata": {
        "id": "Ee_m9ozkXZ7j"
      },
      "source": [
        "Testing The Dataset"
      ]
    },
    {
      "cell_type": "code",
      "metadata": {
        "colab": {
          "base_uri": "https://localhost:8080/",
          "height": 240
        },
        "id": "sKxdWgZsXWSb",
        "outputId": "3b1a3f3b-6d34-4192-8bbf-8d00f733ad69"
      },
      "source": [
        "print(df.shape)\n",
        "df.head()"
      ],
      "execution_count": 9,
      "outputs": [
        {
          "output_type": "stream",
          "text": [
            "(388058, 43)\n"
          ],
          "name": "stdout"
        },
        {
          "output_type": "execute_result",
          "data": {
            "text/html": [
              "<div>\n",
              "<style scoped>\n",
              "    .dataframe tbody tr th:only-of-type {\n",
              "        vertical-align: middle;\n",
              "    }\n",
              "\n",
              "    .dataframe tbody tr th {\n",
              "        vertical-align: top;\n",
              "    }\n",
              "\n",
              "    .dataframe thead th {\n",
              "        text-align: right;\n",
              "    }\n",
              "</style>\n",
              "<table border=\"1\" class=\"dataframe\">\n",
              "  <thead>\n",
              "    <tr style=\"text-align: right;\">\n",
              "      <th></th>\n",
              "      <th>Year</th>\n",
              "      <th>Quarter</th>\n",
              "      <th>Month</th>\n",
              "      <th>DayofMonth</th>\n",
              "      <th>FlightDate</th>\n",
              "      <th>OriginAirportID</th>\n",
              "      <th>Origin</th>\n",
              "      <th>DestAirportID</th>\n",
              "      <th>Dest</th>\n",
              "      <th>CRSDepTime</th>\n",
              "      <th>DepTime</th>\n",
              "      <th>DepDelayMinutes</th>\n",
              "      <th>DepDel15</th>\n",
              "      <th>CRSArrTime</th>\n",
              "      <th>ArrTime</th>\n",
              "      <th>ArrDelayMinutes</th>\n",
              "      <th>ArrDel15</th>\n",
              "      <th>DepHour</th>\n",
              "      <th>ArrHour</th>\n",
              "      <th>WindSpeedKmph_Origin</th>\n",
              "      <th>WindDirDegree_Origin</th>\n",
              "      <th>WeatherCode_Origin</th>\n",
              "      <th>precipMM_Origin</th>\n",
              "      <th>Visibility_Origin</th>\n",
              "      <th>Pressure_Origin</th>\n",
              "      <th>Cloudcover_Origin</th>\n",
              "      <th>DewPointF_Origin</th>\n",
              "      <th>WindGustKmph_Origin</th>\n",
              "      <th>tempF_Origin</th>\n",
              "      <th>WindChillF_Origin</th>\n",
              "      <th>Humidity_Origin</th>\n",
              "      <th>WindSpeedKmph_Dest</th>\n",
              "      <th>WindDirDegree_Dest</th>\n",
              "      <th>WeatherCode_Dest</th>\n",
              "      <th>precipMM_Dest</th>\n",
              "      <th>Visibility_Dest</th>\n",
              "      <th>Pressure_Dest</th>\n",
              "      <th>Cloudcover_Dest</th>\n",
              "      <th>DewPointF_Dest</th>\n",
              "      <th>WindGustKmph_Dest</th>\n",
              "      <th>tempF_Dest</th>\n",
              "      <th>WindChillF_Dest</th>\n",
              "      <th>Humidity_Dest</th>\n",
              "    </tr>\n",
              "  </thead>\n",
              "  <tbody>\n",
              "    <tr>\n",
              "      <th>1</th>\n",
              "      <td>2016</td>\n",
              "      <td>1</td>\n",
              "      <td>1</td>\n",
              "      <td>1</td>\n",
              "      <td>2016-01-01</td>\n",
              "      <td>13204</td>\n",
              "      <td>MCO</td>\n",
              "      <td>12478</td>\n",
              "      <td>JFK</td>\n",
              "      <td>1330</td>\n",
              "      <td>1408</td>\n",
              "      <td>38.0</td>\n",
              "      <td>1.0</td>\n",
              "      <td>1603</td>\n",
              "      <td>1628</td>\n",
              "      <td>25.0</td>\n",
              "      <td>1.0</td>\n",
              "      <td>1400</td>\n",
              "      <td>1600</td>\n",
              "      <td>8</td>\n",
              "      <td>227</td>\n",
              "      <td>122</td>\n",
              "      <td>0.1</td>\n",
              "      <td>8</td>\n",
              "      <td>1019</td>\n",
              "      <td>79</td>\n",
              "      <td>72</td>\n",
              "      <td>10</td>\n",
              "      <td>79</td>\n",
              "      <td>78</td>\n",
              "      <td>83</td>\n",
              "      <td>21</td>\n",
              "      <td>254</td>\n",
              "      <td>113</td>\n",
              "      <td>0.0</td>\n",
              "      <td>10</td>\n",
              "      <td>1016</td>\n",
              "      <td>0</td>\n",
              "      <td>33</td>\n",
              "      <td>24</td>\n",
              "      <td>42</td>\n",
              "      <td>33</td>\n",
              "      <td>74</td>\n",
              "    </tr>\n",
              "    <tr>\n",
              "      <th>11</th>\n",
              "      <td>2016</td>\n",
              "      <td>1</td>\n",
              "      <td>1</td>\n",
              "      <td>1</td>\n",
              "      <td>2016-01-01</td>\n",
              "      <td>14747</td>\n",
              "      <td>SEA</td>\n",
              "      <td>14771</td>\n",
              "      <td>SFO</td>\n",
              "      <td>724</td>\n",
              "      <td>759</td>\n",
              "      <td>35.0</td>\n",
              "      <td>1.0</td>\n",
              "      <td>946</td>\n",
              "      <td>1010</td>\n",
              "      <td>24.0</td>\n",
              "      <td>1.0</td>\n",
              "      <td>700</td>\n",
              "      <td>1000</td>\n",
              "      <td>7</td>\n",
              "      <td>106</td>\n",
              "      <td>113</td>\n",
              "      <td>0.0</td>\n",
              "      <td>10</td>\n",
              "      <td>1030</td>\n",
              "      <td>0</td>\n",
              "      <td>24</td>\n",
              "      <td>8</td>\n",
              "      <td>34</td>\n",
              "      <td>29</td>\n",
              "      <td>67</td>\n",
              "      <td>19</td>\n",
              "      <td>72</td>\n",
              "      <td>113</td>\n",
              "      <td>0.0</td>\n",
              "      <td>10</td>\n",
              "      <td>1023</td>\n",
              "      <td>0</td>\n",
              "      <td>25</td>\n",
              "      <td>30</td>\n",
              "      <td>35</td>\n",
              "      <td>25</td>\n",
              "      <td>70</td>\n",
              "    </tr>\n",
              "    <tr>\n",
              "      <th>13</th>\n",
              "      <td>2016</td>\n",
              "      <td>1</td>\n",
              "      <td>1</td>\n",
              "      <td>1</td>\n",
              "      <td>2016-01-01</td>\n",
              "      <td>13303</td>\n",
              "      <td>MIA</td>\n",
              "      <td>14771</td>\n",
              "      <td>SFO</td>\n",
              "      <td>700</td>\n",
              "      <td>737</td>\n",
              "      <td>37.0</td>\n",
              "      <td>1.0</td>\n",
              "      <td>1021</td>\n",
              "      <td>1047</td>\n",
              "      <td>26.0</td>\n",
              "      <td>1.0</td>\n",
              "      <td>700</td>\n",
              "      <td>1000</td>\n",
              "      <td>9</td>\n",
              "      <td>109</td>\n",
              "      <td>266</td>\n",
              "      <td>0.2</td>\n",
              "      <td>2</td>\n",
              "      <td>1019</td>\n",
              "      <td>100</td>\n",
              "      <td>70</td>\n",
              "      <td>17</td>\n",
              "      <td>72</td>\n",
              "      <td>72</td>\n",
              "      <td>96</td>\n",
              "      <td>19</td>\n",
              "      <td>72</td>\n",
              "      <td>113</td>\n",
              "      <td>0.0</td>\n",
              "      <td>10</td>\n",
              "      <td>1023</td>\n",
              "      <td>0</td>\n",
              "      <td>25</td>\n",
              "      <td>30</td>\n",
              "      <td>35</td>\n",
              "      <td>25</td>\n",
              "      <td>70</td>\n",
              "    </tr>\n",
              "    <tr>\n",
              "      <th>17</th>\n",
              "      <td>2016</td>\n",
              "      <td>1</td>\n",
              "      <td>1</td>\n",
              "      <td>1</td>\n",
              "      <td>2016-01-01</td>\n",
              "      <td>14107</td>\n",
              "      <td>PHX</td>\n",
              "      <td>14771</td>\n",
              "      <td>SFO</td>\n",
              "      <td>839</td>\n",
              "      <td>911</td>\n",
              "      <td>32.0</td>\n",
              "      <td>1.0</td>\n",
              "      <td>950</td>\n",
              "      <td>1018</td>\n",
              "      <td>28.0</td>\n",
              "      <td>1.0</td>\n",
              "      <td>900</td>\n",
              "      <td>1000</td>\n",
              "      <td>7</td>\n",
              "      <td>48</td>\n",
              "      <td>113</td>\n",
              "      <td>0.0</td>\n",
              "      <td>10</td>\n",
              "      <td>1021</td>\n",
              "      <td>0</td>\n",
              "      <td>31</td>\n",
              "      <td>14</td>\n",
              "      <td>42</td>\n",
              "      <td>38</td>\n",
              "      <td>69</td>\n",
              "      <td>19</td>\n",
              "      <td>72</td>\n",
              "      <td>113</td>\n",
              "      <td>0.0</td>\n",
              "      <td>10</td>\n",
              "      <td>1023</td>\n",
              "      <td>0</td>\n",
              "      <td>25</td>\n",
              "      <td>30</td>\n",
              "      <td>35</td>\n",
              "      <td>25</td>\n",
              "      <td>70</td>\n",
              "    </tr>\n",
              "    <tr>\n",
              "      <th>19</th>\n",
              "      <td>2016</td>\n",
              "      <td>1</td>\n",
              "      <td>1</td>\n",
              "      <td>1</td>\n",
              "      <td>2016-01-01</td>\n",
              "      <td>13930</td>\n",
              "      <td>ORD</td>\n",
              "      <td>14771</td>\n",
              "      <td>SFO</td>\n",
              "      <td>653</td>\n",
              "      <td>709</td>\n",
              "      <td>16.0</td>\n",
              "      <td>1.0</td>\n",
              "      <td>941</td>\n",
              "      <td>1015</td>\n",
              "      <td>34.0</td>\n",
              "      <td>1.0</td>\n",
              "      <td>700</td>\n",
              "      <td>1000</td>\n",
              "      <td>21</td>\n",
              "      <td>256</td>\n",
              "      <td>122</td>\n",
              "      <td>0.0</td>\n",
              "      <td>10</td>\n",
              "      <td>1024</td>\n",
              "      <td>66</td>\n",
              "      <td>15</td>\n",
              "      <td>32</td>\n",
              "      <td>20</td>\n",
              "      <td>6</td>\n",
              "      <td>86</td>\n",
              "      <td>19</td>\n",
              "      <td>72</td>\n",
              "      <td>113</td>\n",
              "      <td>0.0</td>\n",
              "      <td>10</td>\n",
              "      <td>1023</td>\n",
              "      <td>0</td>\n",
              "      <td>25</td>\n",
              "      <td>30</td>\n",
              "      <td>35</td>\n",
              "      <td>25</td>\n",
              "      <td>70</td>\n",
              "    </tr>\n",
              "  </tbody>\n",
              "</table>\n",
              "</div>"
            ],
            "text/plain": [
              "    Year  Quarter  Month  ...  tempF_Dest WindChillF_Dest  Humidity_Dest\n",
              "1   2016        1      1  ...          42              33             74\n",
              "11  2016        1      1  ...          35              25             70\n",
              "13  2016        1      1  ...          35              25             70\n",
              "17  2016        1      1  ...          35              25             70\n",
              "19  2016        1      1  ...          35              25             70\n",
              "\n",
              "[5 rows x 43 columns]"
            ]
          },
          "metadata": {},
          "execution_count": 9
        }
      ]
    },
    {
      "cell_type": "markdown",
      "metadata": {
        "id": "zr_w2cFgYscz"
      },
      "source": [
        "Operation To Splitting X And Y ( Train Data and Test Data )"
      ]
    },
    {
      "cell_type": "code",
      "metadata": {
        "id": "lr0bxHRdXtRC"
      },
      "source": [
        "X = df[features]\n",
        "Y = df[target]\n",
        "\n",
        "X_train , X_test , y_train , y_test = train_test_split(X , Y , test_size=0.2)"
      ],
      "execution_count": 11,
      "outputs": []
    },
    {
      "cell_type": "markdown",
      "metadata": {
        "id": "sE6qs7LmZVyy"
      },
      "source": [
        "Operation For Training Regressor"
      ]
    },
    {
      "cell_type": "code",
      "metadata": {
        "id": "svg3jY71ZVfC"
      },
      "source": [
        "model = RandomForestRegressor()\n",
        "model.fit(X_train, y_train)"
      ],
      "execution_count": null,
      "outputs": []
    },
    {
      "cell_type": "markdown",
      "metadata": {
        "id": "qUYDLXGQZ9By"
      },
      "source": [
        "The Scores For Each Arrival Delay Using The Functions In Cell 5 & 6"
      ]
    },
    {
      "cell_type": "markdown",
      "metadata": {
        "id": "YcRX0UfeajeL"
      },
      "source": [
        "  1) Operation To Merge The Output Of Functions"
      ]
    },
    {
      "cell_type": "code",
      "metadata": {
        "id": "rfgjcB0JZHK2"
      },
      "source": [
        "Test_DF = X_test.merge(y_test, left_index=True, right_index=True)"
      ],
      "execution_count": 13,
      "outputs": []
    },
    {
      "cell_type": "markdown",
      "metadata": {
        "id": "wAveg_7_a-V7"
      },
      "source": [
        "  2) Operation To Print The Scores Of Each Arrival Delay( MAE & RMSE Values ) "
      ]
    },
    {
      "cell_type": "code",
      "metadata": {
        "colab": {
          "base_uri": "https://localhost:8080/"
        },
        "id": "QC_KkocLa-Cs",
        "outputId": "c42fa6d1-0dc2-46bc-b6a9-0ea7f589792f"
      },
      "source": [
        "for i in Ranges:\n",
        "  sample = Splitting(Test_DF, i[0], i[1])\n",
        "  test(model, sample[features], sample[target])"
      ],
      "execution_count": 14,
      "outputs": [
        {
          "output_type": "stream",
          "text": [
            "The Range [15, 100] is :\n",
            "(64740, 29)\n",
            "MAE Value : 10.459718252864938\n",
            "RMSE Value : 13.664550657841914\n",
            "\n",
            "\n",
            "The Range [100, 200] is :\n",
            "(9873, 29)\n",
            "MAE Value : 17.443474880988557\n",
            "RMSE Value : 25.722761080970102\n",
            "\n",
            "\n",
            "The Range [200, 500] is :\n",
            "(2765, 29)\n",
            "MAE Value : 18.99935744424352\n",
            "RMSE Value : 28.952945328354055\n",
            "\n",
            "\n",
            "The Range [500, 1000] is :\n",
            "(209, 29)\n",
            "MAE Value : 16.974306220095695\n",
            "RMSE Value : 26.096857085878476\n",
            "\n",
            "\n",
            "The Range [1000, 2000] is :\n",
            "(24, 29)\n",
            "MAE Value : 14.353333333333358\n",
            "RMSE Value : 19.242547258614195\n",
            "\n",
            "\n"
          ],
          "name": "stdout"
        }
      ]
    }
  ]
}