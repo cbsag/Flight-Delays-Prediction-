{
  "nbformat": 4,
  "nbformat_minor": 0,
  "metadata": {
    "colab": {
      "name": "rover.ipynb",
      "provenance": []
    },
    "kernelspec": {
      "display_name": "Python 3",
      "name": "python3"
    },
    "language_info": {
      "name": "python"
    }
  },
  "cells": [
    {
      "cell_type": "code",
      "metadata": {
        "id": "wkSnNYGmMDKL",
        "colab": {
          "base_uri": "https://localhost:8080/"
        },
        "outputId": "10523707-67d1-4b90-e39a-87cb49150ad7"
      },
      "source": [
        "import pandas as pd\n",
        "from sklearn.model_selection import train_test_split\n",
        "from sklearn.linear_model import LogisticRegression as LR\n",
        "from sklearn.metrics import accuracy_score as AS\n",
        "from sklearn.metrics import classification_report as CR\n",
        "from sklearn.metrics import balanced_accuracy_score as BC\n",
        "from sklearn.preprocessing import StandardScaler \n",
        "from sklearn.tree import DecisionTreeClassifier as DTC\n",
        "from sklearn.ensemble import ExtraTreesClassifier as ETC\n",
        "from sklearn.svm import LinearSVC as LSVC\n",
        "from sklearn.ensemble import RandomForestClassifier as RFC\n",
        "from xgboost import XGBClassifier \n",
        "from imblearn.over_sampling import RandomOverSampler\n",
        "from imblearn.under_sampling import RandomUnderSampler\n",
        "from imblearn.over_sampling import SMOTE\n",
        "from imblearn.over_sampling import ADASYN"
      ],
      "execution_count": null,
      "outputs": [
        {
          "output_type": "stream",
          "text": [
            "/usr/local/lib/python3.7/dist-packages/sklearn/externals/six.py:31: FutureWarning: The module is deprecated in version 0.21 and will be removed in version 0.23 since we've dropped support for Python 2.7. Please rely on the official version of six (https://pypi.org/project/six/).\n",
            "  \"(https://pypi.org/project/six/).\", FutureWarning)\n",
            "/usr/local/lib/python3.7/dist-packages/sklearn/utils/deprecation.py:144: FutureWarning: The sklearn.neighbors.base module is  deprecated in version 0.22 and will be removed in version 0.24. The corresponding classes / functions should instead be imported from sklearn.neighbors. Anything that cannot be imported from sklearn.neighbors is now part of the private API.\n",
            "  warnings.warn(message, FutureWarning)\n"
          ],
          "name": "stderr"
        }
      ]
    },
    {
      "cell_type": "code",
      "metadata": {
        "id": "CdAlwW1HLuU2"
      },
      "source": [
        "target = \"ArrDel15\"\n",
        "features = ['OriginAirportID', 'DestAirportID',\n",
        "            'DepTime', 'DepDelayMinutes', 'WindSpeedKmph$Origin$',\n",
        "       'WindDirDegree$Origin$', 'WeatherCode$Origin$', 'precipMM$Origin$',\n",
        "       'Visibility$Origin$', 'Pressure$Origin$', 'Cloudcover$Origin$',\n",
        "       'DewPointF$Origin$', 'WindGustKmph$Origin$', 'tempF$Origin$',\n",
        "       'WindChillF$Origin$', 'Humidity$Origin$', 'WindSpeedKmph$Dest$',\n",
        "       'WindDirDegree$Dest$', 'WeatherCode$Dest$', 'precipMM$Dest$',\n",
        "       'Visibility$Dest$', 'Pressure$Dest$', 'Cloudcover$Dest$',\n",
        "       'DewPointF$Dest$', 'WindGustKmph$Dest$', 'tempF$Dest$',\n",
        "       'WindChillF$Dest$', 'Humidity$Dest$']\n"
      ],
      "execution_count": null,
      "outputs": []
    },
    {
      "cell_type": "code",
      "metadata": {
        "colab": {
          "base_uri": "https://localhost:8080/",
          "height": 240
        },
        "id": "jQfLYfk7MAeq",
        "outputId": "94a3c7fd-9a40-445e-d769-b08c3d37b679"
      },
      "source": [
        "InfoDF = pd.read_csv(\"drive/MyDrive/Data/Info.csv\")\n",
        "InfoDF.head()"
      ],
      "execution_count": null,
      "outputs": [
        {
          "output_type": "execute_result",
          "data": {
            "text/html": [
              "<div>\n",
              "<style scoped>\n",
              "    .dataframe tbody tr th:only-of-type {\n",
              "        vertical-align: middle;\n",
              "    }\n",
              "\n",
              "    .dataframe tbody tr th {\n",
              "        vertical-align: top;\n",
              "    }\n",
              "\n",
              "    .dataframe thead th {\n",
              "        text-align: right;\n",
              "    }\n",
              "</style>\n",
              "<table border=\"1\" class=\"dataframe\">\n",
              "  <thead>\n",
              "    <tr style=\"text-align: right;\">\n",
              "      <th></th>\n",
              "      <th>Unnamed: 0</th>\n",
              "      <th>Year</th>\n",
              "      <th>Quarter</th>\n",
              "      <th>Month</th>\n",
              "      <th>DayofMonth</th>\n",
              "      <th>FlightDate</th>\n",
              "      <th>OriginAirportID</th>\n",
              "      <th>Origin</th>\n",
              "      <th>DestAirportID</th>\n",
              "      <th>Dest</th>\n",
              "      <th>CRSDepTime</th>\n",
              "      <th>DepTime</th>\n",
              "      <th>DepDelayMinutes</th>\n",
              "      <th>DepDel15</th>\n",
              "      <th>CRSArrTime</th>\n",
              "      <th>ArrTime</th>\n",
              "      <th>ArrDelayMinutes</th>\n",
              "      <th>ArrDel15</th>\n",
              "      <th>H_dept</th>\n",
              "      <th>H_arr</th>\n",
              "      <th>Airport$Origin$</th>\n",
              "      <th>Day$Origin$</th>\n",
              "      <th>Hour$Origin$</th>\n",
              "      <th>WindSpeedKmph$Origin$</th>\n",
              "      <th>WindDirDegree$Origin$</th>\n",
              "      <th>WeatherCode$Origin$</th>\n",
              "      <th>precipMM$Origin$</th>\n",
              "      <th>Visibility$Origin$</th>\n",
              "      <th>Pressure$Origin$</th>\n",
              "      <th>Cloudcover$Origin$</th>\n",
              "      <th>DewPointF$Origin$</th>\n",
              "      <th>WindGustKmph$Origin$</th>\n",
              "      <th>tempF$Origin$</th>\n",
              "      <th>WindChillF$Origin$</th>\n",
              "      <th>Humidity$Origin$</th>\n",
              "      <th>Time$Origin$</th>\n",
              "      <th>Airport$Dest$</th>\n",
              "      <th>Day$Dest$</th>\n",
              "      <th>Hour$Dest$</th>\n",
              "      <th>WindSpeedKmph$Dest$</th>\n",
              "      <th>WindDirDegree$Dest$</th>\n",
              "      <th>WeatherCode$Dest$</th>\n",
              "      <th>precipMM$Dest$</th>\n",
              "      <th>Visibility$Dest$</th>\n",
              "      <th>Pressure$Dest$</th>\n",
              "      <th>Cloudcover$Dest$</th>\n",
              "      <th>DewPointF$Dest$</th>\n",
              "      <th>WindGustKmph$Dest$</th>\n",
              "      <th>tempF$Dest$</th>\n",
              "      <th>WindChillF$Dest$</th>\n",
              "      <th>Humidity$Dest$</th>\n",
              "      <th>Time$Dest$</th>\n",
              "    </tr>\n",
              "  </thead>\n",
              "  <tbody>\n",
              "    <tr>\n",
              "      <th>0</th>\n",
              "      <td>0</td>\n",
              "      <td>2016</td>\n",
              "      <td>1</td>\n",
              "      <td>1</td>\n",
              "      <td>1</td>\n",
              "      <td>2016-01-01</td>\n",
              "      <td>14747</td>\n",
              "      <td>SEA</td>\n",
              "      <td>12478</td>\n",
              "      <td>JFK</td>\n",
              "      <td>745</td>\n",
              "      <td>741</td>\n",
              "      <td>0</td>\n",
              "      <td>0</td>\n",
              "      <td>1602</td>\n",
              "      <td>1610</td>\n",
              "      <td>8</td>\n",
              "      <td>0</td>\n",
              "      <td>600</td>\n",
              "      <td>1500</td>\n",
              "      <td>SEA</td>\n",
              "      <td>1</td>\n",
              "      <td>6</td>\n",
              "      <td>7</td>\n",
              "      <td>106</td>\n",
              "      <td>113</td>\n",
              "      <td>0.0</td>\n",
              "      <td>10</td>\n",
              "      <td>1030</td>\n",
              "      <td>0</td>\n",
              "      <td>24</td>\n",
              "      <td>8</td>\n",
              "      <td>34</td>\n",
              "      <td>29</td>\n",
              "      <td>67</td>\n",
              "      <td>600</td>\n",
              "      <td>JFK</td>\n",
              "      <td>1</td>\n",
              "      <td>15</td>\n",
              "      <td>21</td>\n",
              "      <td>254</td>\n",
              "      <td>113</td>\n",
              "      <td>0.0</td>\n",
              "      <td>10</td>\n",
              "      <td>1016</td>\n",
              "      <td>0</td>\n",
              "      <td>33</td>\n",
              "      <td>24</td>\n",
              "      <td>42</td>\n",
              "      <td>33</td>\n",
              "      <td>74</td>\n",
              "      <td>1500</td>\n",
              "    </tr>\n",
              "    <tr>\n",
              "      <th>1</th>\n",
              "      <td>1</td>\n",
              "      <td>2016</td>\n",
              "      <td>1</td>\n",
              "      <td>1</td>\n",
              "      <td>1</td>\n",
              "      <td>2016-01-01</td>\n",
              "      <td>13204</td>\n",
              "      <td>MCO</td>\n",
              "      <td>12478</td>\n",
              "      <td>JFK</td>\n",
              "      <td>1330</td>\n",
              "      <td>1408</td>\n",
              "      <td>38</td>\n",
              "      <td>1</td>\n",
              "      <td>1603</td>\n",
              "      <td>1628</td>\n",
              "      <td>25</td>\n",
              "      <td>1</td>\n",
              "      <td>1300</td>\n",
              "      <td>1500</td>\n",
              "      <td>MCO</td>\n",
              "      <td>1</td>\n",
              "      <td>13</td>\n",
              "      <td>8</td>\n",
              "      <td>227</td>\n",
              "      <td>122</td>\n",
              "      <td>0.1</td>\n",
              "      <td>8</td>\n",
              "      <td>1019</td>\n",
              "      <td>79</td>\n",
              "      <td>72</td>\n",
              "      <td>10</td>\n",
              "      <td>79</td>\n",
              "      <td>78</td>\n",
              "      <td>83</td>\n",
              "      <td>1300</td>\n",
              "      <td>JFK</td>\n",
              "      <td>1</td>\n",
              "      <td>15</td>\n",
              "      <td>21</td>\n",
              "      <td>254</td>\n",
              "      <td>113</td>\n",
              "      <td>0.0</td>\n",
              "      <td>10</td>\n",
              "      <td>1016</td>\n",
              "      <td>0</td>\n",
              "      <td>33</td>\n",
              "      <td>24</td>\n",
              "      <td>42</td>\n",
              "      <td>33</td>\n",
              "      <td>74</td>\n",
              "      <td>1500</td>\n",
              "    </tr>\n",
              "    <tr>\n",
              "      <th>2</th>\n",
              "      <td>2</td>\n",
              "      <td>2016</td>\n",
              "      <td>1</td>\n",
              "      <td>1</td>\n",
              "      <td>1</td>\n",
              "      <td>2016-01-01</td>\n",
              "      <td>13204</td>\n",
              "      <td>MCO</td>\n",
              "      <td>12478</td>\n",
              "      <td>JFK</td>\n",
              "      <td>1445</td>\n",
              "      <td>1445</td>\n",
              "      <td>0</td>\n",
              "      <td>0</td>\n",
              "      <td>1720</td>\n",
              "      <td>1659</td>\n",
              "      <td>0</td>\n",
              "      <td>0</td>\n",
              "      <td>1300</td>\n",
              "      <td>1500</td>\n",
              "      <td>MCO</td>\n",
              "      <td>1</td>\n",
              "      <td>13</td>\n",
              "      <td>8</td>\n",
              "      <td>227</td>\n",
              "      <td>122</td>\n",
              "      <td>0.1</td>\n",
              "      <td>8</td>\n",
              "      <td>1019</td>\n",
              "      <td>79</td>\n",
              "      <td>72</td>\n",
              "      <td>10</td>\n",
              "      <td>79</td>\n",
              "      <td>78</td>\n",
              "      <td>83</td>\n",
              "      <td>1300</td>\n",
              "      <td>JFK</td>\n",
              "      <td>1</td>\n",
              "      <td>15</td>\n",
              "      <td>21</td>\n",
              "      <td>254</td>\n",
              "      <td>113</td>\n",
              "      <td>0.0</td>\n",
              "      <td>10</td>\n",
              "      <td>1016</td>\n",
              "      <td>0</td>\n",
              "      <td>33</td>\n",
              "      <td>24</td>\n",
              "      <td>42</td>\n",
              "      <td>33</td>\n",
              "      <td>74</td>\n",
              "      <td>1500</td>\n",
              "    </tr>\n",
              "    <tr>\n",
              "      <th>3</th>\n",
              "      <td>3</td>\n",
              "      <td>2016</td>\n",
              "      <td>1</td>\n",
              "      <td>1</td>\n",
              "      <td>1</td>\n",
              "      <td>2016-01-01</td>\n",
              "      <td>12892</td>\n",
              "      <td>LAX</td>\n",
              "      <td>12478</td>\n",
              "      <td>JFK</td>\n",
              "      <td>855</td>\n",
              "      <td>853</td>\n",
              "      <td>0</td>\n",
              "      <td>0</td>\n",
              "      <td>1712</td>\n",
              "      <td>1650</td>\n",
              "      <td>0</td>\n",
              "      <td>0</td>\n",
              "      <td>700</td>\n",
              "      <td>1500</td>\n",
              "      <td>LAX</td>\n",
              "      <td>1</td>\n",
              "      <td>7</td>\n",
              "      <td>12</td>\n",
              "      <td>29</td>\n",
              "      <td>113</td>\n",
              "      <td>0.0</td>\n",
              "      <td>10</td>\n",
              "      <td>1020</td>\n",
              "      <td>1</td>\n",
              "      <td>30</td>\n",
              "      <td>15</td>\n",
              "      <td>50</td>\n",
              "      <td>47</td>\n",
              "      <td>47</td>\n",
              "      <td>700</td>\n",
              "      <td>JFK</td>\n",
              "      <td>1</td>\n",
              "      <td>15</td>\n",
              "      <td>21</td>\n",
              "      <td>254</td>\n",
              "      <td>113</td>\n",
              "      <td>0.0</td>\n",
              "      <td>10</td>\n",
              "      <td>1016</td>\n",
              "      <td>0</td>\n",
              "      <td>33</td>\n",
              "      <td>24</td>\n",
              "      <td>42</td>\n",
              "      <td>33</td>\n",
              "      <td>74</td>\n",
              "      <td>1500</td>\n",
              "    </tr>\n",
              "    <tr>\n",
              "      <th>4</th>\n",
              "      <td>4</td>\n",
              "      <td>2016</td>\n",
              "      <td>1</td>\n",
              "      <td>1</td>\n",
              "      <td>1</td>\n",
              "      <td>2016-01-01</td>\n",
              "      <td>12892</td>\n",
              "      <td>LAX</td>\n",
              "      <td>12478</td>\n",
              "      <td>JFK</td>\n",
              "      <td>840</td>\n",
              "      <td>842</td>\n",
              "      <td>2</td>\n",
              "      <td>0</td>\n",
              "      <td>1708</td>\n",
              "      <td>1626</td>\n",
              "      <td>0</td>\n",
              "      <td>0</td>\n",
              "      <td>700</td>\n",
              "      <td>1500</td>\n",
              "      <td>LAX</td>\n",
              "      <td>1</td>\n",
              "      <td>7</td>\n",
              "      <td>12</td>\n",
              "      <td>29</td>\n",
              "      <td>113</td>\n",
              "      <td>0.0</td>\n",
              "      <td>10</td>\n",
              "      <td>1020</td>\n",
              "      <td>1</td>\n",
              "      <td>30</td>\n",
              "      <td>15</td>\n",
              "      <td>50</td>\n",
              "      <td>47</td>\n",
              "      <td>47</td>\n",
              "      <td>700</td>\n",
              "      <td>JFK</td>\n",
              "      <td>1</td>\n",
              "      <td>15</td>\n",
              "      <td>21</td>\n",
              "      <td>254</td>\n",
              "      <td>113</td>\n",
              "      <td>0.0</td>\n",
              "      <td>10</td>\n",
              "      <td>1016</td>\n",
              "      <td>0</td>\n",
              "      <td>33</td>\n",
              "      <td>24</td>\n",
              "      <td>42</td>\n",
              "      <td>33</td>\n",
              "      <td>74</td>\n",
              "      <td>1500</td>\n",
              "    </tr>\n",
              "  </tbody>\n",
              "</table>\n",
              "</div>"
            ],
            "text/plain": [
              "   Unnamed: 0  Year  Quarter  ...  WindChillF$Dest$  Humidity$Dest$ Time$Dest$\n",
              "0           0  2016        1  ...                33              74       1500\n",
              "1           1  2016        1  ...                33              74       1500\n",
              "2           2  2016        1  ...                33              74       1500\n",
              "3           3  2016        1  ...                33              74       1500\n",
              "4           4  2016        1  ...                33              74       1500\n",
              "\n",
              "[5 rows x 52 columns]"
            ]
          },
          "metadata": {
            "tags": []
          },
          "execution_count": 3
        }
      ]
    },
    {
      "cell_type": "code",
      "metadata": {
        "colab": {
          "base_uri": "https://localhost:8080/"
        },
        "id": "sUlKS2V952OB",
        "outputId": "f9869a26-6c9b-41ec-b7e8-59bf04ac7b4b"
      },
      "source": [
        "x = InfoDF[features]\n",
        "y = InfoDF[target]\n",
        "\n",
        "x_train, x_test, y_train, y_test = train_test_split(x, y, test_size=0.2)\n",
        "sampler = RandomOverSampler(sampling_strategy=1.0)\n",
        "x_train, y_train = sampler.fit_resample(x_train, y_train)\n",
        "\n",
        "scaler = StandardScaler()\n",
        "scaler.fit(x)\n",
        "x_trainS = scaler.transform(x_train)\n",
        "x_testS = scaler.transform(x_test)"
      ],
      "execution_count": null,
      "outputs": [
        {
          "output_type": "stream",
          "text": [
            "/usr/local/lib/python3.7/dist-packages/sklearn/utils/deprecation.py:87: FutureWarning: Function safe_indexing is deprecated; safe_indexing is deprecated in version 0.22 and will be removed in version 0.24.\n",
            "  warnings.warn(msg, category=FutureWarning)\n"
          ],
          "name": "stderr"
        }
      ]
    },
    {
      "cell_type": "markdown",
      "metadata": {
        "id": "SHveZYINPtIn"
      },
      "source": [
        "LogisticRegression"
      ]
    },
    {
      "cell_type": "code",
      "metadata": {
        "colab": {
          "base_uri": "https://localhost:8080/"
        },
        "id": "w4-n7IJiPsiw",
        "outputId": "42913bdf-1464-4786-f5ae-96584eccf9a1"
      },
      "source": [
        "model = LR()\n",
        "model.fit(x_trainS,y_train)\n",
        "predictions = model.predict(x_testS)\n",
        "print(CR(y_test,predictions))\n",
        "print(AS(y_test,predictions))\n",
        "print(BC(y_test,predictions))\n"
      ],
      "execution_count": null,
      "outputs": [
        {
          "output_type": "stream",
          "text": [
            "              precision    recall  f1-score   support\n",
            "\n",
            "           0       0.94      0.93      0.93    292814\n",
            "           1       0.74      0.78      0.76     77474\n",
            "\n",
            "    accuracy                           0.90    370288\n",
            "   macro avg       0.84      0.85      0.85    370288\n",
            "weighted avg       0.90      0.90      0.90    370288\n",
            "\n",
            "0.8959485589595126\n",
            "0.8534096192911118\n"
          ],
          "name": "stdout"
        }
      ]
    },
    {
      "cell_type": "markdown",
      "metadata": {
        "id": "qzTHhM8KV2CD"
      },
      "source": [
        "Decision Tree"
      ]
    },
    {
      "cell_type": "code",
      "metadata": {
        "colab": {
          "base_uri": "https://localhost:8080/"
        },
        "id": "cWsZjQe6V5ar",
        "outputId": "bd9767fc-3152-44dc-bdab-537f6d060cbc"
      },
      "source": [
        "model = DTC()\n",
        "model.fit(x_trainS,y_train)\n",
        "predictions = model.predict(x_testS)\n",
        "print(CR(y_test,predictions))\n",
        "print(AS(y_test,predictions))\n",
        "print(BC(y_test,predictions)) \n"
      ],
      "execution_count": null,
      "outputs": [
        {
          "output_type": "stream",
          "text": [
            "              precision    recall  f1-score   support\n",
            "\n",
            "           0       0.92      0.92      0.92    292814\n",
            "           1       0.69      0.70      0.69     77474\n",
            "\n",
            "    accuracy                           0.87    370288\n",
            "   macro avg       0.81      0.81      0.81    370288\n",
            "weighted avg       0.87      0.87      0.87    370288\n",
            "\n",
            "0.8713109795618545\n",
            "0.8070855261183028\n"
          ],
          "name": "stdout"
        }
      ]
    },
    {
      "cell_type": "markdown",
      "metadata": {
        "id": "SAqCPbBJW4PG"
      },
      "source": [
        "Extra Tree Classifier "
      ]
    },
    {
      "cell_type": "code",
      "metadata": {
        "colab": {
          "base_uri": "https://localhost:8080/"
        },
        "id": "hEpFFeQJW3-j",
        "outputId": "4d081f7c-55e9-4d1e-e9c1-eac9d99bf368"
      },
      "source": [
        "model = ETC()\n",
        "model.fit(x_train,y_train)\n",
        "predictions = model.predict(x_test)\n",
        "print(CR(y_test,predictions))\n",
        "print(AS(y_test,predictions))\n",
        "print(BC(y_test,predictions))\n"
      ],
      "execution_count": null,
      "outputs": [
        {
          "output_type": "stream",
          "text": [
            "              precision    recall  f1-score   support\n",
            "\n",
            "           0       0.91      0.98      0.94    292814\n",
            "           1       0.87      0.64      0.74     77474\n",
            "\n",
            "    accuracy                           0.91    370288\n",
            "   macro avg       0.89      0.81      0.84    370288\n",
            "weighted avg       0.90      0.91      0.90    370288\n",
            "\n",
            "0.9060407034524478\n",
            "0.8096993090904472\n"
          ],
          "name": "stdout"
        }
      ]
    },
    {
      "cell_type": "markdown",
      "metadata": {
        "id": "IMIBwa3gXbDP"
      },
      "source": [
        "Linear SVC"
      ]
    },
    {
      "cell_type": "code",
      "metadata": {
        "id": "9DfOYIaHXa3I",
        "colab": {
          "base_uri": "https://localhost:8080/"
        },
        "outputId": "66dca29d-e714-472a-adf0-d93a3188b8bd"
      },
      "source": [
        "model = LSVC()\n",
        "model.fit(x_trainS,y_train)\n",
        "predictions = model.predict(x_testS)\n",
        "print(CR(y_test,predictions))\n",
        "print(AS(y_test,predictions))\n",
        "print(BC(y_test,predictions))"
      ],
      "execution_count": null,
      "outputs": [
        {
          "output_type": "stream",
          "text": [
            "/usr/local/lib/python3.7/dist-packages/sklearn/svm/_base.py:947: ConvergenceWarning: Liblinear failed to converge, increase the number of iterations.\n",
            "  \"the number of iterations.\", ConvergenceWarning)\n"
          ],
          "name": "stderr"
        },
        {
          "output_type": "stream",
          "text": [
            "              precision    recall  f1-score   support\n",
            "\n",
            "           0       0.94      0.93      0.94    292807\n",
            "           1       0.76      0.77      0.76     77481\n",
            "\n",
            "    accuracy                           0.90    370288\n",
            "   macro avg       0.85      0.85      0.85    370288\n",
            "weighted avg       0.90      0.90      0.90    370288\n",
            "\n",
            "0.9000183640841724\n",
            "0.8529406234544897\n"
          ],
          "name": "stdout"
        }
      ]
    },
    {
      "cell_type": "markdown",
      "metadata": {
        "id": "o03sQMppYrlv"
      },
      "source": [
        "XGBOOST"
      ]
    },
    {
      "cell_type": "code",
      "metadata": {
        "id": "lTqBWLorYu10",
        "colab": {
          "base_uri": "https://localhost:8080/"
        },
        "outputId": "1cc54dcd-81fb-4851-b9a4-e3e015299425"
      },
      "source": [
        "model = XGBClassifier()\n",
        "model.fit(pd.DataFrame(x_train,columns=features),y_train)\n",
        "predictions = model.predict(x_test)\n",
        "print(CR(y_test,predictions))\n",
        "print(AS(y_test,predictions))\n",
        "print(BC(y_test,predictions))"
      ],
      "execution_count": null,
      "outputs": [
        {
          "output_type": "stream",
          "text": [
            "              precision    recall  f1-score   support\n",
            "\n",
            "           0       0.94      0.92      0.93    292807\n",
            "           1       0.73      0.79      0.76     77481\n",
            "\n",
            "    accuracy                           0.90    370288\n",
            "   macro avg       0.84      0.86      0.85    370288\n",
            "weighted avg       0.90      0.90      0.90    370288\n",
            "\n",
            "0.8959134511515361\n",
            "0.8558309539615756\n"
          ],
          "name": "stdout"
        }
      ]
    },
    {
      "cell_type": "markdown",
      "metadata": {
        "id": "WyYPxw2hYvfM"
      },
      "source": [
        "Random Forest "
      ]
    },
    {
      "cell_type": "code",
      "metadata": {
        "id": "RHeuWi8zYxu5",
        "colab": {
          "base_uri": "https://localhost:8080/"
        },
        "outputId": "f6a81efd-3318-42a9-9f93-4308ac58a45e"
      },
      "source": [
        "model = RFC()\n",
        "model.fit(x_train,y_train)\n",
        "predictions = model.predict(x_test)\n",
        "print(CR(y_test,predictions))\n",
        "print(AS(y_test,predictions))\n",
        "print(BC(y_test,predictions))"
      ],
      "execution_count": null,
      "outputs": [
        {
          "output_type": "stream",
          "text": [
            "              precision    recall  f1-score   support\n",
            "\n",
            "           0       0.93      0.96      0.95    292807\n",
            "           1       0.84      0.73      0.78     77481\n",
            "\n",
            "    accuracy                           0.91    370288\n",
            "   macro avg       0.89      0.85      0.86    370288\n",
            "weighted avg       0.91      0.91      0.91    370288\n",
            "\n",
            "0.9146205116017803\n",
            "0.8479748758478683\n"
          ],
          "name": "stdout"
        }
      ]
    },
    {
      "cell_type": "code",
      "metadata": {
        "id": "NPy4QCErAOm_"
      },
      "source": [
        ""
      ],
      "execution_count": null,
      "outputs": []
    }
  ]
}