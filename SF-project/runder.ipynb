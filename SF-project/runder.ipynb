{
  "nbformat": 4,
  "nbformat_minor": 0,
  "metadata": {
    "colab": {
      "name": "runder.ipynb",
      "provenance": []
    },
    "kernelspec": {
      "display_name": "Python 3",
      "name": "python3"
    },
    "language_info": {
      "name": "python"
    }
  },
  "cells": [
    {
      "cell_type": "code",
      "metadata": {
        "id": "wkSnNYGmMDKL"
      },
      "source": [
        "import pandas as pd\n",
        "from sklearn.model_selection import train_test_split\n",
        "from sklearn.linear_model import LogisticRegression as LR\n",
        "from sklearn.metrics import accuracy_score as AS\n",
        "from sklearn.metrics import classification_report as CR\n",
        "from sklearn.preprocessing import StandardScaler \n",
        "from sklearn.metrics import balanced_accuracy_score as BC\n",
        "from sklearn.tree import DecisionTreeClassifier as DTC\n",
        "from sklearn.ensemble import ExtraTreesClassifier as ETC\n",
        "from sklearn.svm import LinearSVC as LSVC\n",
        "from sklearn.ensemble import RandomForestClassifier as RFC\n",
        "from xgboost import XGBClassifier\n",
        "from imblearn.over_sampling import RandomOverSampler\n",
        "from imblearn.under_sampling import RandomUnderSampler\n",
        "from imblearn.over_sampling import SMOTE\n",
        "from imblearn.over_sampling import ADASYN "
      ],
      "execution_count": null,
      "outputs": []
    },
    {
      "cell_type": "code",
      "metadata": {
        "id": "CdAlwW1HLuU2"
      },
      "source": [
        "target = \"ArrDel15\"\n",
        "features = ['OriginAirportID', 'DestAirportID',\n",
        "            'DepTime', 'DepDelayMinutes', 'WindSpeedKmph$Origin$',\n",
        "       'WindDirDegree$Origin$', 'WeatherCode$Origin$', 'precipMM$Origin$',\n",
        "       'Visibility$Origin$', 'Pressure$Origin$', 'Cloudcover$Origin$',\n",
        "       'DewPointF$Origin$', 'WindGustKmph$Origin$', 'tempF$Origin$',\n",
        "       'WindChillF$Origin$', 'Humidity$Origin$', 'WindSpeedKmph$Dest$',\n",
        "       'WindDirDegree$Dest$', 'WeatherCode$Dest$', 'precipMM$Dest$',\n",
        "       'Visibility$Dest$', 'Pressure$Dest$', 'Cloudcover$Dest$',\n",
        "       'DewPointF$Dest$', 'WindGustKmph$Dest$', 'tempF$Dest$',\n",
        "       'WindChillF$Dest$', 'Humidity$Dest$']\n"
      ],
      "execution_count": null,
      "outputs": []
    },
    {
      "cell_type": "code",
      "metadata": {
        "colab": {
          "base_uri": "https://localhost:8080/",
          "height": 240
        },
        "id": "jQfLYfk7MAeq",
        "outputId": "67375566-654b-452a-ce3a-b68a915ed901"
      },
      "source": [
        "InfoDF = pd.read_csv(\"drive/MyDrive/Data/Info.csv\")\n",
        "InfoDF.head()"
      ],
      "execution_count": null,
      "outputs": [
        {
          "output_type": "execute_result",
          "data": {
            "text/html": [
              "<div>\n",
              "<style scoped>\n",
              "    .dataframe tbody tr th:only-of-type {\n",
              "        vertical-align: middle;\n",
              "    }\n",
              "\n",
              "    .dataframe tbody tr th {\n",
              "        vertical-align: top;\n",
              "    }\n",
              "\n",
              "    .dataframe thead th {\n",
              "        text-align: right;\n",
              "    }\n",
              "</style>\n",
              "<table border=\"1\" class=\"dataframe\">\n",
              "  <thead>\n",
              "    <tr style=\"text-align: right;\">\n",
              "      <th></th>\n",
              "      <th>Unnamed: 0</th>\n",
              "      <th>Year</th>\n",
              "      <th>Quarter</th>\n",
              "      <th>Month</th>\n",
              "      <th>DayofMonth</th>\n",
              "      <th>FlightDate</th>\n",
              "      <th>OriginAirportID</th>\n",
              "      <th>Origin</th>\n",
              "      <th>DestAirportID</th>\n",
              "      <th>Dest</th>\n",
              "      <th>CRSDepTime</th>\n",
              "      <th>DepTime</th>\n",
              "      <th>DepDelayMinutes</th>\n",
              "      <th>DepDel15</th>\n",
              "      <th>CRSArrTime</th>\n",
              "      <th>ArrTime</th>\n",
              "      <th>ArrDelayMinutes</th>\n",
              "      <th>ArrDel15</th>\n",
              "      <th>H_dept</th>\n",
              "      <th>H_arr</th>\n",
              "      <th>Airport$Origin$</th>\n",
              "      <th>Day$Origin$</th>\n",
              "      <th>Hour$Origin$</th>\n",
              "      <th>WindSpeedKmph$Origin$</th>\n",
              "      <th>WindDirDegree$Origin$</th>\n",
              "      <th>WeatherCode$Origin$</th>\n",
              "      <th>precipMM$Origin$</th>\n",
              "      <th>Visibility$Origin$</th>\n",
              "      <th>Pressure$Origin$</th>\n",
              "      <th>Cloudcover$Origin$</th>\n",
              "      <th>DewPointF$Origin$</th>\n",
              "      <th>WindGustKmph$Origin$</th>\n",
              "      <th>tempF$Origin$</th>\n",
              "      <th>WindChillF$Origin$</th>\n",
              "      <th>Humidity$Origin$</th>\n",
              "      <th>Time$Origin$</th>\n",
              "      <th>Airport$Dest$</th>\n",
              "      <th>Day$Dest$</th>\n",
              "      <th>Hour$Dest$</th>\n",
              "      <th>WindSpeedKmph$Dest$</th>\n",
              "      <th>WindDirDegree$Dest$</th>\n",
              "      <th>WeatherCode$Dest$</th>\n",
              "      <th>precipMM$Dest$</th>\n",
              "      <th>Visibility$Dest$</th>\n",
              "      <th>Pressure$Dest$</th>\n",
              "      <th>Cloudcover$Dest$</th>\n",
              "      <th>DewPointF$Dest$</th>\n",
              "      <th>WindGustKmph$Dest$</th>\n",
              "      <th>tempF$Dest$</th>\n",
              "      <th>WindChillF$Dest$</th>\n",
              "      <th>Humidity$Dest$</th>\n",
              "      <th>Time$Dest$</th>\n",
              "    </tr>\n",
              "  </thead>\n",
              "  <tbody>\n",
              "    <tr>\n",
              "      <th>0</th>\n",
              "      <td>0</td>\n",
              "      <td>2016</td>\n",
              "      <td>1</td>\n",
              "      <td>1</td>\n",
              "      <td>1</td>\n",
              "      <td>2016-01-01</td>\n",
              "      <td>14747</td>\n",
              "      <td>SEA</td>\n",
              "      <td>12478</td>\n",
              "      <td>JFK</td>\n",
              "      <td>745</td>\n",
              "      <td>741</td>\n",
              "      <td>0</td>\n",
              "      <td>0</td>\n",
              "      <td>1602</td>\n",
              "      <td>1610</td>\n",
              "      <td>8</td>\n",
              "      <td>0</td>\n",
              "      <td>600</td>\n",
              "      <td>1500</td>\n",
              "      <td>SEA</td>\n",
              "      <td>1</td>\n",
              "      <td>6</td>\n",
              "      <td>7</td>\n",
              "      <td>106</td>\n",
              "      <td>113</td>\n",
              "      <td>0.0</td>\n",
              "      <td>10</td>\n",
              "      <td>1030</td>\n",
              "      <td>0</td>\n",
              "      <td>24</td>\n",
              "      <td>8</td>\n",
              "      <td>34</td>\n",
              "      <td>29</td>\n",
              "      <td>67</td>\n",
              "      <td>600</td>\n",
              "      <td>JFK</td>\n",
              "      <td>1</td>\n",
              "      <td>15</td>\n",
              "      <td>21</td>\n",
              "      <td>254</td>\n",
              "      <td>113</td>\n",
              "      <td>0.0</td>\n",
              "      <td>10</td>\n",
              "      <td>1016</td>\n",
              "      <td>0</td>\n",
              "      <td>33</td>\n",
              "      <td>24</td>\n",
              "      <td>42</td>\n",
              "      <td>33</td>\n",
              "      <td>74</td>\n",
              "      <td>1500</td>\n",
              "    </tr>\n",
              "    <tr>\n",
              "      <th>1</th>\n",
              "      <td>1</td>\n",
              "      <td>2016</td>\n",
              "      <td>1</td>\n",
              "      <td>1</td>\n",
              "      <td>1</td>\n",
              "      <td>2016-01-01</td>\n",
              "      <td>13204</td>\n",
              "      <td>MCO</td>\n",
              "      <td>12478</td>\n",
              "      <td>JFK</td>\n",
              "      <td>1330</td>\n",
              "      <td>1408</td>\n",
              "      <td>38</td>\n",
              "      <td>1</td>\n",
              "      <td>1603</td>\n",
              "      <td>1628</td>\n",
              "      <td>25</td>\n",
              "      <td>1</td>\n",
              "      <td>1300</td>\n",
              "      <td>1500</td>\n",
              "      <td>MCO</td>\n",
              "      <td>1</td>\n",
              "      <td>13</td>\n",
              "      <td>8</td>\n",
              "      <td>227</td>\n",
              "      <td>122</td>\n",
              "      <td>0.1</td>\n",
              "      <td>8</td>\n",
              "      <td>1019</td>\n",
              "      <td>79</td>\n",
              "      <td>72</td>\n",
              "      <td>10</td>\n",
              "      <td>79</td>\n",
              "      <td>78</td>\n",
              "      <td>83</td>\n",
              "      <td>1300</td>\n",
              "      <td>JFK</td>\n",
              "      <td>1</td>\n",
              "      <td>15</td>\n",
              "      <td>21</td>\n",
              "      <td>254</td>\n",
              "      <td>113</td>\n",
              "      <td>0.0</td>\n",
              "      <td>10</td>\n",
              "      <td>1016</td>\n",
              "      <td>0</td>\n",
              "      <td>33</td>\n",
              "      <td>24</td>\n",
              "      <td>42</td>\n",
              "      <td>33</td>\n",
              "      <td>74</td>\n",
              "      <td>1500</td>\n",
              "    </tr>\n",
              "    <tr>\n",
              "      <th>2</th>\n",
              "      <td>2</td>\n",
              "      <td>2016</td>\n",
              "      <td>1</td>\n",
              "      <td>1</td>\n",
              "      <td>1</td>\n",
              "      <td>2016-01-01</td>\n",
              "      <td>13204</td>\n",
              "      <td>MCO</td>\n",
              "      <td>12478</td>\n",
              "      <td>JFK</td>\n",
              "      <td>1445</td>\n",
              "      <td>1445</td>\n",
              "      <td>0</td>\n",
              "      <td>0</td>\n",
              "      <td>1720</td>\n",
              "      <td>1659</td>\n",
              "      <td>0</td>\n",
              "      <td>0</td>\n",
              "      <td>1300</td>\n",
              "      <td>1500</td>\n",
              "      <td>MCO</td>\n",
              "      <td>1</td>\n",
              "      <td>13</td>\n",
              "      <td>8</td>\n",
              "      <td>227</td>\n",
              "      <td>122</td>\n",
              "      <td>0.1</td>\n",
              "      <td>8</td>\n",
              "      <td>1019</td>\n",
              "      <td>79</td>\n",
              "      <td>72</td>\n",
              "      <td>10</td>\n",
              "      <td>79</td>\n",
              "      <td>78</td>\n",
              "      <td>83</td>\n",
              "      <td>1300</td>\n",
              "      <td>JFK</td>\n",
              "      <td>1</td>\n",
              "      <td>15</td>\n",
              "      <td>21</td>\n",
              "      <td>254</td>\n",
              "      <td>113</td>\n",
              "      <td>0.0</td>\n",
              "      <td>10</td>\n",
              "      <td>1016</td>\n",
              "      <td>0</td>\n",
              "      <td>33</td>\n",
              "      <td>24</td>\n",
              "      <td>42</td>\n",
              "      <td>33</td>\n",
              "      <td>74</td>\n",
              "      <td>1500</td>\n",
              "    </tr>\n",
              "    <tr>\n",
              "      <th>3</th>\n",
              "      <td>3</td>\n",
              "      <td>2016</td>\n",
              "      <td>1</td>\n",
              "      <td>1</td>\n",
              "      <td>1</td>\n",
              "      <td>2016-01-01</td>\n",
              "      <td>12892</td>\n",
              "      <td>LAX</td>\n",
              "      <td>12478</td>\n",
              "      <td>JFK</td>\n",
              "      <td>855</td>\n",
              "      <td>853</td>\n",
              "      <td>0</td>\n",
              "      <td>0</td>\n",
              "      <td>1712</td>\n",
              "      <td>1650</td>\n",
              "      <td>0</td>\n",
              "      <td>0</td>\n",
              "      <td>700</td>\n",
              "      <td>1500</td>\n",
              "      <td>LAX</td>\n",
              "      <td>1</td>\n",
              "      <td>7</td>\n",
              "      <td>12</td>\n",
              "      <td>29</td>\n",
              "      <td>113</td>\n",
              "      <td>0.0</td>\n",
              "      <td>10</td>\n",
              "      <td>1020</td>\n",
              "      <td>1</td>\n",
              "      <td>30</td>\n",
              "      <td>15</td>\n",
              "      <td>50</td>\n",
              "      <td>47</td>\n",
              "      <td>47</td>\n",
              "      <td>700</td>\n",
              "      <td>JFK</td>\n",
              "      <td>1</td>\n",
              "      <td>15</td>\n",
              "      <td>21</td>\n",
              "      <td>254</td>\n",
              "      <td>113</td>\n",
              "      <td>0.0</td>\n",
              "      <td>10</td>\n",
              "      <td>1016</td>\n",
              "      <td>0</td>\n",
              "      <td>33</td>\n",
              "      <td>24</td>\n",
              "      <td>42</td>\n",
              "      <td>33</td>\n",
              "      <td>74</td>\n",
              "      <td>1500</td>\n",
              "    </tr>\n",
              "    <tr>\n",
              "      <th>4</th>\n",
              "      <td>4</td>\n",
              "      <td>2016</td>\n",
              "      <td>1</td>\n",
              "      <td>1</td>\n",
              "      <td>1</td>\n",
              "      <td>2016-01-01</td>\n",
              "      <td>12892</td>\n",
              "      <td>LAX</td>\n",
              "      <td>12478</td>\n",
              "      <td>JFK</td>\n",
              "      <td>840</td>\n",
              "      <td>842</td>\n",
              "      <td>2</td>\n",
              "      <td>0</td>\n",
              "      <td>1708</td>\n",
              "      <td>1626</td>\n",
              "      <td>0</td>\n",
              "      <td>0</td>\n",
              "      <td>700</td>\n",
              "      <td>1500</td>\n",
              "      <td>LAX</td>\n",
              "      <td>1</td>\n",
              "      <td>7</td>\n",
              "      <td>12</td>\n",
              "      <td>29</td>\n",
              "      <td>113</td>\n",
              "      <td>0.0</td>\n",
              "      <td>10</td>\n",
              "      <td>1020</td>\n",
              "      <td>1</td>\n",
              "      <td>30</td>\n",
              "      <td>15</td>\n",
              "      <td>50</td>\n",
              "      <td>47</td>\n",
              "      <td>47</td>\n",
              "      <td>700</td>\n",
              "      <td>JFK</td>\n",
              "      <td>1</td>\n",
              "      <td>15</td>\n",
              "      <td>21</td>\n",
              "      <td>254</td>\n",
              "      <td>113</td>\n",
              "      <td>0.0</td>\n",
              "      <td>10</td>\n",
              "      <td>1016</td>\n",
              "      <td>0</td>\n",
              "      <td>33</td>\n",
              "      <td>24</td>\n",
              "      <td>42</td>\n",
              "      <td>33</td>\n",
              "      <td>74</td>\n",
              "      <td>1500</td>\n",
              "    </tr>\n",
              "  </tbody>\n",
              "</table>\n",
              "</div>"
            ],
            "text/plain": [
              "   Unnamed: 0  Year  Quarter  ...  WindChillF$Dest$  Humidity$Dest$ Time$Dest$\n",
              "0           0  2016        1  ...                33              74       1500\n",
              "1           1  2016        1  ...                33              74       1500\n",
              "2           2  2016        1  ...                33              74       1500\n",
              "3           3  2016        1  ...                33              74       1500\n",
              "4           4  2016        1  ...                33              74       1500\n",
              "\n",
              "[5 rows x 52 columns]"
            ]
          },
          "metadata": {
            "tags": []
          },
          "execution_count": 4
        }
      ]
    },
    {
      "cell_type": "code",
      "metadata": {
        "id": "sUlKS2V952OB",
        "colab": {
          "base_uri": "https://localhost:8080/"
        },
        "outputId": "1ff090f0-2f05-4411-faad-fa4f95d926f2"
      },
      "source": [
        "x = InfoDF[features]\n",
        "y = InfoDF[target]\n",
        "\n",
        "x_train, x_test, y_train, y_test = train_test_split(x, y, test_size=0.2)\n",
        "sampler = RandomUnderSampler(sampling_strategy=1.0)\n",
        "x_train, y_train = sampler.fit_resample(x_train, y_train)\n",
        "\n",
        "scaler = StandardScaler()\n",
        "scaler.fit(x)\n",
        "x_trainS = scaler.transform(x_train)\n",
        "x_testS = scaler.transform(x_test)"
      ],
      "execution_count": null,
      "outputs": [
        {
          "output_type": "stream",
          "text": [
            "/usr/local/lib/python3.7/dist-packages/sklearn/utils/deprecation.py:87: FutureWarning: Function safe_indexing is deprecated; safe_indexing is deprecated in version 0.22 and will be removed in version 0.24.\n",
            "  warnings.warn(msg, category=FutureWarning)\n"
          ],
          "name": "stderr"
        }
      ]
    },
    {
      "cell_type": "markdown",
      "metadata": {
        "id": "SHveZYINPtIn"
      },
      "source": [
        "LogisticRegression"
      ]
    },
    {
      "cell_type": "code",
      "metadata": {
        "colab": {
          "base_uri": "https://localhost:8080/"
        },
        "id": "w4-n7IJiPsiw",
        "outputId": "7149e50a-e8c1-4dd5-fc65-a18b237ce29f"
      },
      "source": [
        "model = LR()\n",
        "model.fit(x_trainS,y_train)\n",
        "predictions = model.predict(x_testS)\n",
        "print(CR(y_test,predictions))\n",
        "print(AS(y_test,predictions))\n",
        "\n",
        "print(BC(y_test,predictions))"
      ],
      "execution_count": null,
      "outputs": [
        {
          "output_type": "stream",
          "text": [
            "              precision    recall  f1-score   support\n",
            "\n",
            "           0       0.94      0.93      0.93    292998\n",
            "           1       0.74      0.78      0.76     77290\n",
            "\n",
            "    accuracy                           0.90    370288\n",
            "   macro avg       0.84      0.85      0.85    370288\n",
            "weighted avg       0.90      0.90      0.90    370288\n",
            "\n",
            "0.8966696193233376\n",
            "0.8535172142633316\n"
          ],
          "name": "stdout"
        }
      ]
    },
    {
      "cell_type": "markdown",
      "metadata": {
        "id": "qzTHhM8KV2CD"
      },
      "source": [
        "Decision Tree"
      ]
    },
    {
      "cell_type": "code",
      "metadata": {
        "colab": {
          "base_uri": "https://localhost:8080/"
        },
        "id": "cWsZjQe6V5ar",
        "outputId": "929dce7c-ab57-4a31-a23f-0abd28b1475d"
      },
      "source": [
        "model = DTC()\n",
        "model.fit(x_trainS,y_train)\n",
        "predictions = model.predict(x_testS)\n",
        "print(CR(y_test,predictions))\n",
        "print(AS(y_test,predictions))\n",
        "print(BC(y_test,predictions))"
      ],
      "execution_count": null,
      "outputs": [
        {
          "output_type": "stream",
          "text": [
            "              precision    recall  f1-score   support\n",
            "\n",
            "           0       0.94      0.79      0.86    292998\n",
            "           1       0.51      0.80      0.62     77290\n",
            "\n",
            "    accuracy                           0.79    370288\n",
            "   macro avg       0.72      0.80      0.74    370288\n",
            "weighted avg       0.85      0.79      0.81    370288\n",
            "\n",
            "0.7949866050209566\n",
            "0.7978465038641562\n"
          ],
          "name": "stdout"
        }
      ]
    },
    {
      "cell_type": "markdown",
      "metadata": {
        "id": "SAqCPbBJW4PG"
      },
      "source": [
        "Extra Tree Classifier "
      ]
    },
    {
      "cell_type": "code",
      "metadata": {
        "colab": {
          "base_uri": "https://localhost:8080/"
        },
        "id": "hEpFFeQJW3-j",
        "outputId": "cb48274e-8790-40f8-ed77-b470ab805e23"
      },
      "source": [
        "model = ETC()\n",
        "model.fit(x_train,y_train)\n",
        "predictions = model.predict(x_test)\n",
        "print(CR(y_test,predictions))\n",
        "print(AS(y_test,predictions))\n",
        "print(BC(y_test,predictions))"
      ],
      "execution_count": null,
      "outputs": [
        {
          "output_type": "stream",
          "text": [
            "              precision    recall  f1-score   support\n",
            "\n",
            "           0       0.95      0.89      0.92    292998\n",
            "           1       0.66      0.83      0.73     77290\n",
            "\n",
            "    accuracy                           0.87    370288\n",
            "   macro avg       0.80      0.86      0.82    370288\n",
            "weighted avg       0.89      0.87      0.88    370288\n",
            "\n",
            "0.873201399991358\n",
            "0.856261924879718\n"
          ],
          "name": "stdout"
        }
      ]
    },
    {
      "cell_type": "markdown",
      "metadata": {
        "id": "IMIBwa3gXbDP"
      },
      "source": [
        "Linear SVC"
      ]
    },
    {
      "cell_type": "code",
      "metadata": {
        "colab": {
          "base_uri": "https://localhost:8080/"
        },
        "id": "9DfOYIaHXa3I",
        "outputId": "763a71e8-f3bc-44f2-a3c9-772e7cab8a26"
      },
      "source": [
        "model = LSVC()\n",
        "model.fit(x_trainS,y_train)\n",
        "predictions = model.predict(x_testS)\n",
        "print(CR(y_test,predictions))\n",
        "print(AS(y_test,predictions))\n",
        "print(BC(y_test,predictions))"
      ],
      "execution_count": null,
      "outputs": [
        {
          "output_type": "stream",
          "text": [
            "/usr/local/lib/python3.7/dist-packages/sklearn/svm/_base.py:947: ConvergenceWarning: Liblinear failed to converge, increase the number of iterations.\n",
            "  \"the number of iterations.\", ConvergenceWarning)\n"
          ],
          "name": "stderr"
        },
        {
          "output_type": "stream",
          "text": [
            "              precision    recall  f1-score   support\n",
            "\n",
            "           0       0.94      0.93      0.94    292998\n",
            "           1       0.76      0.77      0.76     77290\n",
            "\n",
            "    accuracy                           0.90    370288\n",
            "   macro avg       0.85      0.85      0.85    370288\n",
            "weighted avg       0.90      0.90      0.90    370288\n",
            "\n",
            "0.9004450589811174\n",
            "0.8526166704047082\n"
          ],
          "name": "stdout"
        }
      ]
    },
    {
      "cell_type": "markdown",
      "metadata": {
        "id": "o03sQMppYrlv"
      },
      "source": [
        "XGBOOST"
      ]
    },
    {
      "cell_type": "code",
      "metadata": {
        "colab": {
          "base_uri": "https://localhost:8080/"
        },
        "id": "lTqBWLorYu10",
        "outputId": "329a4f4f-4fba-43c8-a102-c56b33546a4e"
      },
      "source": [
        "model = XGBClassifier()\n",
        "model.fit(pd.DataFrame(x_train,columns=features),y_train)\n",
        "predictions = model.predict(x_test)\n",
        "print(CR(y_test,predictions))\n",
        "print(AS(y_test,predictions))\n",
        "print(BC(y_test,predictions))"
      ],
      "execution_count": null,
      "outputs": [
        {
          "output_type": "stream",
          "text": [
            "              precision    recall  f1-score   support\n",
            "\n",
            "           0       0.94      0.92      0.93    292998\n",
            "           1       0.73      0.79      0.76     77290\n",
            "\n",
            "    accuracy                           0.90    370288\n",
            "   macro avg       0.84      0.86      0.85    370288\n",
            "weighted avg       0.90      0.90      0.90    370288\n",
            "\n",
            "0.8960511817828285\n",
            "0.8561697573440701\n"
          ],
          "name": "stdout"
        }
      ]
    },
    {
      "cell_type": "markdown",
      "metadata": {
        "id": "WyYPxw2hYvfM"
      },
      "source": [
        "Random Forest "
      ]
    },
    {
      "cell_type": "code",
      "metadata": {
        "colab": {
          "base_uri": "https://localhost:8080/"
        },
        "id": "RHeuWi8zYxu5",
        "outputId": "c1aefa1a-af31-4a0a-be55-917d04531e4c"
      },
      "source": [
        "model = RFC()\n",
        "model.fit(x_train,y_train)\n",
        "predictions = model.predict(x_test)\n",
        "print(CR(y_test,predictions))\n",
        "print(AS(y_test,predictions))\n",
        "print(BC(y_test,predictions))"
      ],
      "execution_count": null,
      "outputs": [
        {
          "output_type": "stream",
          "text": [
            "              precision    recall  f1-score   support\n",
            "\n",
            "           0       0.95      0.91      0.93    292998\n",
            "           1       0.72      0.81      0.76     77290\n",
            "\n",
            "    accuracy                           0.89    370288\n",
            "   macro avg       0.83      0.86      0.85    370288\n",
            "weighted avg       0.90      0.89      0.90    370288\n",
            "\n",
            "0.8934640063950222\n",
            "0.8638268560523311\n"
          ],
          "name": "stdout"
        }
      ]
    },
    {
      "cell_type": "code",
      "metadata": {
        "id": "NPy4QCErAOm_"
      },
      "source": [
        ""
      ],
      "execution_count": null,
      "outputs": []
    }
  ]
}