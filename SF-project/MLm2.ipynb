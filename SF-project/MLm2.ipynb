{
  "nbformat": 4,
  "nbformat_minor": 0,
  "metadata": {
    "colab": {
      "name": "MLm2.ipynb",
      "provenance": []
    },
    "kernelspec": {
      "display_name": "Python 3",
      "name": "python3"
    },
    "language_info": {
      "name": "python"
    }
  },
  "cells": [
    {
      "cell_type": "code",
      "metadata": {
        "id": "wkSnNYGmMDKL"
      },
      "source": [
        "import pandas as pd\n",
        "from sklearn.model_selection import train_test_split\n",
        "from sklearn.linear_model import LogisticRegression as LR\n",
        "from sklearn.metrics import accuracy_score as AS\n",
        "from sklearn.metrics import classification_report as CR\n",
        "from sklearn.preprocessing import StandardScaler \n",
        "from sklearn.tree import DecisionTreeClassifier as DTC\n",
        "from sklearn.ensemble import ExtraTreesClassifier as ETC\n",
        "from sklearn.svm import LinearSVC as LSVC\n",
        "from sklearn.ensemble import RandomForestClassifier as RFC\n",
        "from xgboost import XGBClassifier \n",
        "from sklearn.metrics import balanced_accuracy_score as BC"
      ],
      "execution_count": null,
      "outputs": []
    },
    {
      "cell_type": "code",
      "metadata": {
        "id": "CdAlwW1HLuU2"
      },
      "source": [
        "target = \"ArrDel15\"\n",
        "features = ['OriginAirportID', 'DestAirportID','DepTime', 'DepDelayMinutes', 'WindSpeedKmph$Origin$','WindDirDegree$Origin$', 'WeatherCode$Origin$', 'precipMM$Origin$','Visibility$Origin$', 'Pressure$Origin$', 'Cloudcover$Origin$','DewPointF$Origin$', 'WindGustKmph$Origin$', 'tempF$Origin$',\n",
        "'WindChillF$Origin$', 'Humidity$Origin$', 'WindSpeedKmph$Dest$',\n",
        "       'WindDirDegree$Dest$', 'WeatherCode$Dest$', 'precipMM$Dest$',\n",
        "       'Visibility$Dest$', 'Pressure$Dest$', 'Cloudcover$Dest$',\n",
        "       'DewPointF$Dest$', 'WindGustKmph$Dest$', 'tempF$Dest$',\n",
        "       'WindChillF$Dest$', 'Humidity$Dest$']\n"
      ],
      "execution_count": null,
      "outputs": []
    },
    {
      "cell_type": "code",
      "metadata": {
        "id": "jQfLYfk7MAeq"
      },
      "source": [
        "InfoDF = pd.read_csv(\"drive/MyDrive/Data/Info.csv\")\n"
      ],
      "execution_count": null,
      "outputs": []
    },
    {
      "cell_type": "code",
      "metadata": {
        "id": "sUlKS2V952OB"
      },
      "source": [
        "x = InfoDF[features]\n",
        "y = InfoDF[target]\n",
        "\n",
        "x_train, x_test, y_train, y_test = train_test_split(x, y, test_size=0.2)\n",
        "\n",
        "scaler = StandardScaler()\n",
        "scaler.fit(x)\n",
        "x_trainS = scaler.transform(x_train)\n",
        "x_testS = scaler.transform(x_test)"
      ],
      "execution_count": null,
      "outputs": []
    },
    {
      "cell_type": "markdown",
      "metadata": {
        "id": "SHveZYINPtIn"
      },
      "source": [
        "LogisticRegression"
      ]
    },
    {
      "cell_type": "code",
      "metadata": {
        "colab": {
          "base_uri": "https://localhost:8080/"
        },
        "id": "w4-n7IJiPsiw",
        "outputId": "5fca04e4-90d9-4487-cb00-df325cf09ae5"
      },
      "source": [
        "model = LR()\n",
        "model.fit(x_trainS,y_train)\n",
        "predictions = model.predict(x_testS)\n",
        "print(CR(y_test,predictions))\n",
        "print(AS(y_test,predictions))\n",
        "\n",
        "print(BC(y_test,predictions))"
      ],
      "execution_count": null,
      "outputs": [
        {
          "output_type": "stream",
          "text": [
            "              precision    recall  f1-score   support\n",
            "\n",
            "           0       0.92      0.98      0.95    292504\n",
            "           1       0.89      0.69      0.78     77784\n",
            "\n",
            "    accuracy                           0.92    370288\n",
            "   macro avg       0.91      0.83      0.86    370288\n",
            "weighted avg       0.92      0.92      0.91    370288\n",
            "\n",
            "0.9167485848852784\n",
            "0.8324901003242882\n"
          ],
          "name": "stdout"
        }
      ]
    },
    {
      "cell_type": "markdown",
      "metadata": {
        "id": "qzTHhM8KV2CD"
      },
      "source": [
        "Decision Tree"
      ]
    },
    {
      "cell_type": "code",
      "metadata": {
        "colab": {
          "base_uri": "https://localhost:8080/"
        },
        "id": "cWsZjQe6V5ar",
        "outputId": "e7694ab9-6932-4010-a23d-c9bb45723846"
      },
      "source": [
        "model = DTC()\n",
        "model.fit(x_trainS,y_train)\n",
        "predictions = model.predict(x_testS)\n",
        "print(CR(y_test,predictions))\n",
        "print(AS(y_test,predictions))\n",
        "print(BC(y_test,predictions))"
      ],
      "execution_count": null,
      "outputs": [
        {
          "output_type": "stream",
          "text": [
            "              precision    recall  f1-score   support\n",
            "\n",
            "           0       0.92      0.91      0.92    292504\n",
            "           1       0.68      0.71      0.70     77784\n",
            "\n",
            "    accuracy                           0.87    370288\n",
            "   macro avg       0.80      0.81      0.81    370288\n",
            "weighted avg       0.87      0.87      0.87    370288\n",
            "\n",
            "0.8704143801581472\n",
            "0.8122410343688342\n"
          ],
          "name": "stdout"
        }
      ]
    },
    {
      "cell_type": "markdown",
      "metadata": {
        "id": "SAqCPbBJW4PG"
      },
      "source": [
        "Extra Tree Classifier "
      ]
    },
    {
      "cell_type": "code",
      "metadata": {
        "colab": {
          "base_uri": "https://localhost:8080/"
        },
        "id": "hEpFFeQJW3-j",
        "outputId": "30616117-8493-4359-fef4-94d7241e6a1a"
      },
      "source": [
        "model = ETC()\n",
        "model.fit(x_train,y_train)\n",
        "predictions = model.predict(x_test)\n",
        "print(CR(y_test,predictions))\n",
        "print(AS(y_test,predictions))\n",
        "print(BC(y_test,predictions))"
      ],
      "execution_count": null,
      "outputs": [
        {
          "output_type": "stream",
          "text": [
            "              precision    recall  f1-score   support\n",
            "\n",
            "           0       0.92      0.97      0.95    292504\n",
            "           1       0.87      0.67      0.76     77784\n",
            "\n",
            "    accuracy                           0.91    370288\n",
            "   macro avg       0.90      0.82      0.85    370288\n",
            "weighted avg       0.91      0.91      0.91    370288\n",
            "\n",
            "0.9109152875599533\n",
            "0.8233855184826234\n"
          ],
          "name": "stdout"
        }
      ]
    },
    {
      "cell_type": "markdown",
      "metadata": {
        "id": "IMIBwa3gXbDP"
      },
      "source": [
        "Linear SVC"
      ]
    },
    {
      "cell_type": "code",
      "metadata": {
        "colab": {
          "base_uri": "https://localhost:8080/"
        },
        "id": "9DfOYIaHXa3I",
        "outputId": "8736a33a-1c83-48fe-a201-92790b54f130"
      },
      "source": [
        "model = LSVC()\n",
        "model.fit(x_trainS,y_train)\n",
        "predictions = model.predict(x_testS)\n",
        "print(CR(y_test,predictions))\n",
        "print(AS(y_test,predictions))\n",
        "print(BC(y_test,predictions))"
      ],
      "execution_count": null,
      "outputs": [
        {
          "output_type": "stream",
          "text": [
            "/usr/local/lib/python3.7/dist-packages/sklearn/svm/_base.py:947: ConvergenceWarning: Liblinear failed to converge, increase the number of iterations.\n",
            "  \"the number of iterations.\", ConvergenceWarning)\n"
          ],
          "name": "stderr"
        },
        {
          "output_type": "stream",
          "text": [
            "              precision    recall  f1-score   support\n",
            "\n",
            "           0       0.92      0.98      0.95    292504\n",
            "           1       0.90      0.68      0.78     77784\n",
            "\n",
            "    accuracy                           0.92    370288\n",
            "   macro avg       0.91      0.83      0.86    370288\n",
            "weighted avg       0.92      0.92      0.91    370288\n",
            "\n",
            "0.9168133993000043\n",
            "0.830714434046764\n"
          ],
          "name": "stdout"
        }
      ]
    },
    {
      "cell_type": "markdown",
      "metadata": {
        "id": "o03sQMppYrlv"
      },
      "source": [
        "XGBOOST"
      ]
    },
    {
      "cell_type": "code",
      "metadata": {
        "colab": {
          "background_save": true
        },
        "id": "lTqBWLorYu10",
        "outputId": "6e89c12b-c67f-4c9d-c776-731f1f34e9a8"
      },
      "source": [
        "model = XGBClassifier()\n",
        "model.fit(x_train,y_train)\n",
        "predictions = model.predict(x_test)\n",
        "print(CR(y_test,predictions))\n",
        "print(AS(y_test,predictions))\n",
        "print(BC(y_test,predictions))"
      ],
      "execution_count": null,
      "outputs": [
        {
          "output_type": "stream",
          "text": [
            "              precision    recall  f1-score   support\n",
            "\n",
            "           0       0.92      0.98      0.95    292504\n",
            "           1       0.90      0.68      0.78     77784\n",
            "\n",
            "    accuracy                           0.92    370288\n",
            "   macro avg       0.91      0.83      0.86    370288\n",
            "weighted avg       0.92      0.92      0.91    370288\n",
            "\n",
            "0.9176856932981895\n",
            "0.8321348001569464\n"
          ],
          "name": "stdout"
        }
      ]
    },
    {
      "cell_type": "markdown",
      "metadata": {
        "id": "WyYPxw2hYvfM"
      },
      "source": [
        "Random Forest "
      ]
    },
    {
      "cell_type": "code",
      "metadata": {
        "colab": {
          "base_uri": "https://localhost:8080/"
        },
        "id": "RHeuWi8zYxu5",
        "outputId": "89e3828c-c46a-4e35-827d-cef3268ee6b2"
      },
      "source": [
        "model = RFC()\n",
        "model.fit(x_train,y_train)\n",
        "predictions = model.predict(x_test)\n",
        "print(CR(y_test,predictions))\n",
        "print(AS(y_test,predictions))\n",
        "print(BC(y_test,predictions))"
      ],
      "execution_count": null,
      "outputs": [
        {
          "output_type": "stream",
          "text": [
            "              precision    recall  f1-score   support\n",
            "\n",
            "           0       0.92      0.97      0.95    292300\n",
            "           1       0.88      0.70      0.78     77988\n",
            "\n",
            "    accuracy                           0.92    370288\n",
            "   macro avg       0.90      0.84      0.87    370288\n",
            "weighted avg       0.92      0.92      0.91    370288\n",
            "\n",
            "0.9173346152184246\n",
            "0.8387201539870403\n"
          ],
          "name": "stdout"
        }
      ]
    },
    {
      "cell_type": "code",
      "metadata": {
        "id": "NPy4QCErAOm_"
      },
      "source": [
        ""
      ],
      "execution_count": null,
      "outputs": []
    }
  ]
}